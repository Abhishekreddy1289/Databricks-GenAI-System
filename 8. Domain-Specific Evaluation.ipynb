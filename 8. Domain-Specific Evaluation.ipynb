{
 "cells": [
  {
   "cell_type": "markdown",
   "metadata": {
    "application/vnd.databricks.v1+cell": {
     "cellMetadata": {
      "byteLimit": 2048000,
      "rowLimit": 10000
     },
     "inputWidgets": {},
     "nuid": "2cf27023-5e89-4689-aa3a-587e205d0606",
     "showTitle": false,
     "tableResultSettingsMap": {},
     "title": ""
    }
   },
   "source": [
    "\n",
    "# Domain-Specific Evaluation \n",
    "\n",
    "\n",
    "In this lab, you will have the opportunity to evaluate a large language model on a specific task **using a dataset designed for this exact evaluation.**\n",
    "\n",
    "**Lab Outline:**\n",
    "\n",
    "*In this lab, you will need to complete the following tasks:*\n",
    "\n",
    "- **Task 1:** Create a Benchmark Dataset\n",
    "- **Task 2:** Compute ROUGE on Custom Benchmark Data\n",
    "- **Task 3:** Use an LLM-as-a-Judge approach to evaluate custom metrics"
   ]
  },
  {
   "cell_type": "code",
   "execution_count": 0,
   "metadata": {
    "application/vnd.databricks.v1+cell": {
     "cellMetadata": {
      "byteLimit": 2048000,
      "rowLimit": 10000
     },
     "inputWidgets": {},
     "nuid": "39058c2b-5c27-4188-b21b-5e5fad011900",
     "showTitle": false,
     "tableResultSettingsMap": {},
     "title": ""
    }
   },
   "outputs": [
    {
     "output_type": "stream",
     "name": "stdout",
     "output_type": "stream",
     "text": [
      "ERROR: pip's dependency resolver does not currently take into account all the packages that are installed. This behaviour is the source of the following dependency conflicts.\njupyter-server 1.23.4 requires anyio<4,>=3.1.0, but you have anyio 4.9.0 which is incompatible.\n\u001B[43mNote: you may need to restart the kernel using %restart_python or dbutils.library.restartPython() to use updated packages.\u001B[0m\n"
     ]
    }
   ],
   "source": [
    "%pip install -U -qq databricks-sdk rouge_score textstat mlflow tiktoken\n",
    "dbutils.library.restartPython()"
   ]
  },
  {
   "cell_type": "markdown",
   "metadata": {
    "application/vnd.databricks.v1+cell": {
     "cellMetadata": {
      "byteLimit": 2048000,
      "rowLimit": 10000
     },
     "inputWidgets": {},
     "nuid": "663d86b8-91a9-47c4-ab24-c8e8367dbf67",
     "showTitle": false,
     "tableResultSettingsMap": {},
     "title": ""
    }
   },
   "source": [
    "Before starting the Lab, run the provided classroom setup script. This script will define configuration variables necessary for the lab. Execute the following cell:"
   ]
  },
  {
   "cell_type": "code",
   "execution_count": 0,
   "metadata": {
    "application/vnd.databricks.v1+cell": {
     "cellMetadata": {
      "byteLimit": 2048000,
      "rowLimit": 10000
     },
     "inputWidgets": {},
     "nuid": "55144d5f-729e-41b1-a274-7e4c7394b57f",
     "showTitle": false,
     "tableResultSettingsMap": {},
     "title": ""
    }
   },
   "outputs": [
    {
     "output_type": "stream",
     "name": "stdout",
     "output_type": "stream",
     "text": [
      "\nThe examples and models presented in this course are intended solely for demonstration and educational purposes.\n Please note that the models and prompt examples may sometimes contain offensive, inaccurate, biased, or harmful content.\n"
     ]
    }
   ],
   "source": [
    "%run ../Includes/Classroom-Setup-03"
   ]
  },
  {
   "cell_type": "markdown",
   "metadata": {
    "application/vnd.databricks.v1+cell": {
     "cellMetadata": {
      "byteLimit": 2048000,
      "rowLimit": 10000
     },
     "inputWidgets": {},
     "nuid": "ef2ac63b-7c2a-40de-9843-986091527b71",
     "showTitle": false,
     "tableResultSettingsMap": {},
     "title": ""
    }
   },
   "source": [
    "**Other Conventions:**\n",
    "\n",
    "Throughout this lab, we'll refer to the object `DA`. This object, provided by Databricks Academy, contains variables such as your username, catalog name, schema name, working directory, and dataset locations. Run the code block below to view these details:"
   ]
  },
  {
   "cell_type": "code",
   "execution_count": 0,
   "metadata": {
    "application/vnd.databricks.v1+cell": {
     "cellMetadata": {
      "byteLimit": 2048000,
      "rowLimit": 10000
     },
     "inputWidgets": {},
     "nuid": "2a801c1e-4ff5-4de9-b053-04022f269008",
     "showTitle": false,
     "tableResultSettingsMap": {},
     "title": ""
    }
   },
   "outputs": [
    {
     "output_type": "stream",
     "name": "stdout",
     "output_type": "stream",
     "text": [
      "Username:          labuser11003544_1753435669@vocareum.com\nCatalog Name:      dbacademy\nSchema Name:       labuser11003544_1753435669\nWorking Directory: /Volumes/dbacademy/ops/labuser11003544_1753435669@vocareum_com\nDataset Location:  NestedNamespace (news='/Volumes/dbacademy_news/v01', arxiv='/Volumes/dbacademy_arxiv/v01')\n"
     ]
    }
   ],
   "source": [
    "print(f\"Username:          {DA.username}\")\n",
    "print(f\"Catalog Name:      {DA.catalog_name}\")\n",
    "print(f\"Schema Name:       {DA.schema_name}\")\n",
    "print(f\"Working Directory: {DA.paths.working_dir}\")\n",
    "print(f\"Dataset Location:  {DA.paths.datasets}\")"
   ]
  },
  {
   "cell_type": "markdown",
   "metadata": {
    "application/vnd.databricks.v1+cell": {
     "cellMetadata": {
      "byteLimit": 2048000,
      "rowLimit": 10000
     },
     "inputWidgets": {},
     "isMarkdownSandbox": true,
     "nuid": "a782b2fb-671c-4773-8e72-86145c23d2df",
     "showTitle": false,
     "tableResultSettingsMap": {},
     "title": ""
    }
   },
   "source": [
    "# Lab Overview\n",
    "\n",
    "In this lab, you will again be evaluating the performance of an AI system designed to summarize text."
   ]
  },
  {
   "cell_type": "code",
   "execution_count": 0,
   "metadata": {
    "application/vnd.databricks.v1+cell": {
     "cellMetadata": {
      "byteLimit": 2048000,
      "rowLimit": 10000
     },
     "inputWidgets": {},
     "nuid": "c18157ae-48d8-4b7c-bb5b-900ee5cc55a1",
     "showTitle": false,
     "tableResultSettingsMap": {},
     "title": ""
    }
   },
   "outputs": [
    {
     "output_type": "execute_result",
     "data": {
      "text/plain": [
       "\"I think this is the best frozen pizza I've ever had, with a delicious taste similar to a pizzeria, and I would buy it again despite its high price.\""
      ]
     },
     "execution_count": 10,
     "metadata": {},
     "output_type": "execute_result"
    }
   ],
   "source": [
    "query_product_summary_system(\n",
    "    \"This is the best frozen pizza I've ever had! Sure, it's not the healthiest, but it tasted just like it was delivered from our favorite pizzeria down the street. The cheese browned nicely and fresh tomatoes are a nice touch, too! I would buy it again despite it's high price. If I could change one thing, I'd made it a little healthier – could we get a gluten-free crust option? My son would love that.\"\n",
    ")"
   ]
  },
  {
   "cell_type": "markdown",
   "metadata": {
    "application/vnd.databricks.v1+cell": {
     "cellMetadata": {
      "byteLimit": 2048000,
      "rowLimit": 10000
     },
     "inputWidgets": {},
     "nuid": "a484224a-9694-41f9-93c0-84b5429267d2",
     "showTitle": false,
     "tableResultSettingsMap": {},
     "title": ""
    }
   },
   "source": [
    "However, you will evaluate the LLM using a curated benchmark set specific to our evaluation.\n",
    "\n",
    "This lab will follow the below steps:\n",
    "\n",
    "1. Create a custom benchmark dataset specific to the use case\n",
    "2. Compute summarization-specific evaluation metrics using the custom benchmark data set\n",
    "3. Use an LLM-as-a-Judge approach to evaluate custom metrics"
   ]
  },
  {
   "cell_type": "markdown",
   "metadata": {
    "application/vnd.databricks.v1+cell": {
     "cellMetadata": {
      "byteLimit": 2048000,
      "rowLimit": 10000
     },
     "inputWidgets": {},
     "nuid": "231d067e-1e2c-45e6-9d91-f244773ef030",
     "showTitle": false,
     "tableResultSettingsMap": {},
     "title": ""
    }
   },
   "source": [
    "## Task 1: Create a Benchmark Dataset\n",
    "\n",
    "Recall that ROUGE requires reference sets to compute scores. In our demo, we used a large, generic benchmark set.\n",
    "\n",
    "In this lab, you have to use a domain-specific benchmark set specific to the use case.\n",
    "\n",
    "### Case-Specific Benchmark Set\n",
    "\n",
    "While the base-specific data set likely won't be as large, it does have the advantage of being **more representative of the task we're actually asking the LLM to perform.**\n",
    "\n",
    "Below, we've started to create a dataset for grocery product review summaries. It's your task to create **two more** product summaries to this dataset.\n",
    "\n",
    "**Hint:** Try opening up another tab and using AI Playground to generate some examples! Just be sure to manually check them since this is our *ground-truth evaluation data*.\n",
    "\n",
    "**Note:** For this task, we're creating an *extremely small* reference set. In practice, you'll want to create one with far more example records."
   ]
  },
  {
   "cell_type": "code",
   "execution_count": 0,
   "metadata": {
    "application/vnd.databricks.v1+cell": {
     "cellMetadata": {
      "byteLimit": 2048000,
      "rowLimit": 10000
     },
     "inputWidgets": {},
     "nuid": "ff1b29a5-74db-4749-a093-985ae397d39d",
     "showTitle": false,
     "tableResultSettingsMap": {},
     "title": ""
    }
   },
   "outputs": [
    {
     "output_type": "display_data",
     "data": {
      "text/html": [
       "<style scoped>\n",
       "  .table-result-container {\n",
       "    max-height: 300px;\n",
       "    overflow: auto;\n",
       "  }\n",
       "  table, th, td {\n",
       "    border: 1px solid black;\n",
       "    border-collapse: collapse;\n",
       "  }\n",
       "  th, td {\n",
       "    padding: 5px;\n",
       "  }\n",
       "  th {\n",
       "    text-align: left;\n",
       "  }\n",
       "</style><div class='table-result-container'><table class='table-result'><thead style='background-color: white'><tr><th>inputs</th><th>ground_truth</th></tr></thead><tbody><tr><td>This coffee is exceptional. Its intensely bold flavor profile is both nutty and fruity – especially with notes of plum and citrus. While the price is relatively good, I find myself needing to purchase bags too often. If this came in 16oz bags instead of just 12oz bags, I'd purchase it all the time. I highly recommend they start scaling up their bag size.</td><td>This bold, nutty, and fruity coffee is delicious, and they need to start selling it in larger bags.</td></tr><tr><td>The moment I opened the tub of Chocolate-Covered Strawberry Delight ice cream, I was greeted by the enticing aroma of fresh strawberries and rich chocolate. The appearance of the ice cream was equally appealing, with a swirl of pink strawberry ice cream and chunks of chocolate-covered strawberries scattered throughout. The first bite did not disappoint. The strawberry ice cream was creamy and flavorful, with a natural sweetness that was not overpowering. The chocolate-covered strawberries added a satisfying crunch fruity bite.</td><td>Chocolate-Covered Strawberry Delight ice cream looks delicious with its aroma of strawberry and chocolate, and its creamy, naturally sweet taste did not disappoint.</td></tr><tr><td>Arroz Delicioso is a must-try for Mexican cuisine enthusiasts! This authentic Mexican rice, infused with a blend of tomatoes, onions, and garlic, brings a burst of flavor to any meal. Its vibrant color and delightful aroma will transport you straight to the heart of Mexico. The rice cooks evenly, resulting in separate, fluffy grains that hold their shape, making it perfect for dishes like arroz con pollo or as a side for tacos. With a cook time of just 20 minutes, Arroz Delicioso is a convenient and delicious addition to your pantry. Give it a try and elevate your Mexican food game!</td><td>Arroz Delicioso offers authentic, flavorful Mexican rice with a blend of tomatoes, onions, and garlic, cooking evenly into separate, fluffy grains in just 20 minutes, making it a convenient and delicious choice for dishes like arroz con pollo or as a side for tacos.</td></tr><tr><td>FreshCrunch salad mixes are revolutionizing the way we think about packaged salads! Each bag is packed with a vibrant blend of crisp, nutrient-rich greens, including baby spinach, arugula, and kale. The veggies are pre-washed and ready to eat, making meal prep a breeze. FreshCrunch sets itself apart with its innovative packaging that keeps the greens fresh for up to 10 days, reducing food waste and ensuring you always have a healthy option on hand. The salad mixes are versatile and pair well with various dressings and toppings. Try FreshCrunch for a convenient, delicious, and nutritious meal solution that doesn't compromise on quality or taste!</td><td>FreshCrunch salad mixes offer convenient, pre-washed, nutrient-rich greens in an innovative packaging that keeps them fresh for up to 10 days, providing a versatile, tasty, and waste-reducing healthy meal solution.</td></tr><tr><td>If you're a grill enthusiast like me, you know the importance of having the right tools for the job. That's why I was thrilled to get my hands on the new Click-Clack Grill Tongs. These tongs are not just any ordinary grilling utensil; they're a game-changer. First impressions matter, and the Click-Clack Grill Tongs certainly deliver. The sleek, stainless steel design exudes a professional feel, and the ergonomic handle ensures a comfortable grip even during those long grilling sessions. But what truly sets these tongs apart is their innovative 'Click-Clack' mechanism. With a simple press of a button, the tongs automatically open and close, allowing for precise control when flipping or turning your food. No more struggling with stiff, unwieldy tongs that can ruin your carefully prepared meals. The tongs also feature a scalloped edge, which provides a secure grip on everything from juicy steaks to delicate vegetables. And with their generous length, you can keep your hands safely away from the heat while still maintaining optimal control. Cleanup is a breeze thanks to the dishwasher-safe construction, and the integrated hanging loop makes storage a snap. In conclusion, the Click-Clack Grill Tongs have earned a permanent spot in my grilling arsenal. They've made my grilling experience more enjoyable and efficient, and I'm confident they'll do the same for you. So, if you're looking to up your grilling game, I highly recommend giving these tongs a try. Happy grilling!</td><td>The Click-Clack Grill Tongs are a high-quality, innovative grilling tool with a sleek design, comfortable grip, and an automatic opening/closing mechanism for precise control. These tongs have made grilling more enjoyable and efficient, and are highly recommended for anyone looking to improve their grilling experience.</td></tr><tr><td>As a parent, I understand the importance of providing my child with nutritious, wholesome food. That's why I was thrilled to discover Fresh 'n' Quik Baby Food, a new product that promises to deliver fresh, homemade baby food in minutes. The concept behind Fresh 'n' Quik is simple yet ingenious. The system consists of pre-portioned, organic fruit and vegetable purees that can be quickly and easily blended with breast milk, formula, or water to create a nutritious meal for your little one. The purees are made with high-quality ingredients, free from additives, preservatives, and artificial flavors, ensuring that your baby receives only the best. One of the standout features of Fresh 'n' Quik is the convenience it offers. The purees come in individual, resealable pouches that can be stored in the freezer until you're ready to use them. When it's time to feed your baby, simply pop a pouch into the Fresh 'n' Quik blender, add your liquid of choice, and blend. In less than a minute, you have a fresh, homemade meal that's ready to serve. The blender itself is compact, easy to use, and even easier to clean. The blades are removable, making it a breeze to rinse off any leftover puree. And the best part? The blender is whisper-quiet, so you don't have to worry about waking your sleeping baby while preparing their meal. But what truly sets Fresh 'n' Quik apart is the variety of flavors available. From classic combinations like apple and banana to more adventurous options like mango and kale, there's something for every palate. And because the purees are made with real fruits and vegetables, your baby is exposed to a wide range of flavors and textures, helping to cultivate a diverse and adventurous palate from an early age. In conclusion, Fresh 'n' Quik Baby Food is a game-changer for parents seeking a convenient, nutritious, and delicious option for their little ones. The system is easy to use, quick to clean, and offers a wide variety of flavors to keep your baby's taste buds excited. I highly recommend giving Fresh 'n' Quik a try – your baby (and your schedule) will thank you!</td><td>Fresh 'n' Quik Baby Food is a revolutionary product that delivers fresh, homemade baby food in minutes. With pre-portioned, organic fruit and vegetable purees, the system offers convenience, high-quality ingredients, and a wide range of flavors to cultivate a diverse palate in your little one. The blender is compact, easy to use, and whisper-quiet, making mealtime a breeze. Fresh 'n' Quik Baby Food is a must-try for parents seeking a nutritious and delicious option for their babies.</td></tr></tbody></table></div>"
      ]
     },
     "metadata": {
      "application/vnd.databricks.v1+output": {
       "addedWidgets": {},
       "aggData": [],
       "aggError": "",
       "aggOverflow": false,
       "aggSchema": [],
       "aggSeriesLimitReached": false,
       "aggType": "",
       "arguments": {},
       "columnCustomDisplayInfos": {},
       "data": [
        [
         "This coffee is exceptional. Its intensely bold flavor profile is both nutty and fruity – especially with notes of plum and citrus. While the price is relatively good, I find myself needing to purchase bags too often. If this came in 16oz bags instead of just 12oz bags, I'd purchase it all the time. I highly recommend they start scaling up their bag size.",
         "This bold, nutty, and fruity coffee is delicious, and they need to start selling it in larger bags."
        ],
        [
         "The moment I opened the tub of Chocolate-Covered Strawberry Delight ice cream, I was greeted by the enticing aroma of fresh strawberries and rich chocolate. The appearance of the ice cream was equally appealing, with a swirl of pink strawberry ice cream and chunks of chocolate-covered strawberries scattered throughout. The first bite did not disappoint. The strawberry ice cream was creamy and flavorful, with a natural sweetness that was not overpowering. The chocolate-covered strawberries added a satisfying crunch fruity bite.",
         "Chocolate-Covered Strawberry Delight ice cream looks delicious with its aroma of strawberry and chocolate, and its creamy, naturally sweet taste did not disappoint."
        ],
        [
         "Arroz Delicioso is a must-try for Mexican cuisine enthusiasts! This authentic Mexican rice, infused with a blend of tomatoes, onions, and garlic, brings a burst of flavor to any meal. Its vibrant color and delightful aroma will transport you straight to the heart of Mexico. The rice cooks evenly, resulting in separate, fluffy grains that hold their shape, making it perfect for dishes like arroz con pollo or as a side for tacos. With a cook time of just 20 minutes, Arroz Delicioso is a convenient and delicious addition to your pantry. Give it a try and elevate your Mexican food game!",
         "Arroz Delicioso offers authentic, flavorful Mexican rice with a blend of tomatoes, onions, and garlic, cooking evenly into separate, fluffy grains in just 20 minutes, making it a convenient and delicious choice for dishes like arroz con pollo or as a side for tacos."
        ],
        [
         "FreshCrunch salad mixes are revolutionizing the way we think about packaged salads! Each bag is packed with a vibrant blend of crisp, nutrient-rich greens, including baby spinach, arugula, and kale. The veggies are pre-washed and ready to eat, making meal prep a breeze. FreshCrunch sets itself apart with its innovative packaging that keeps the greens fresh for up to 10 days, reducing food waste and ensuring you always have a healthy option on hand. The salad mixes are versatile and pair well with various dressings and toppings. Try FreshCrunch for a convenient, delicious, and nutritious meal solution that doesn't compromise on quality or taste!",
         "FreshCrunch salad mixes offer convenient, pre-washed, nutrient-rich greens in an innovative packaging that keeps them fresh for up to 10 days, providing a versatile, tasty, and waste-reducing healthy meal solution."
        ],
        [
         "If you're a grill enthusiast like me, you know the importance of having the right tools for the job. That's why I was thrilled to get my hands on the new Click-Clack Grill Tongs. These tongs are not just any ordinary grilling utensil; they're a game-changer. First impressions matter, and the Click-Clack Grill Tongs certainly deliver. The sleek, stainless steel design exudes a professional feel, and the ergonomic handle ensures a comfortable grip even during those long grilling sessions. But what truly sets these tongs apart is their innovative 'Click-Clack' mechanism. With a simple press of a button, the tongs automatically open and close, allowing for precise control when flipping or turning your food. No more struggling with stiff, unwieldy tongs that can ruin your carefully prepared meals. The tongs also feature a scalloped edge, which provides a secure grip on everything from juicy steaks to delicate vegetables. And with their generous length, you can keep your hands safely away from the heat while still maintaining optimal control. Cleanup is a breeze thanks to the dishwasher-safe construction, and the integrated hanging loop makes storage a snap. In conclusion, the Click-Clack Grill Tongs have earned a permanent spot in my grilling arsenal. They've made my grilling experience more enjoyable and efficient, and I'm confident they'll do the same for you. So, if you're looking to up your grilling game, I highly recommend giving these tongs a try. Happy grilling!",
         "The Click-Clack Grill Tongs are a high-quality, innovative grilling tool with a sleek design, comfortable grip, and an automatic opening/closing mechanism for precise control. These tongs have made grilling more enjoyable and efficient, and are highly recommended for anyone looking to improve their grilling experience."
        ],
        [
         "As a parent, I understand the importance of providing my child with nutritious, wholesome food. That's why I was thrilled to discover Fresh 'n' Quik Baby Food, a new product that promises to deliver fresh, homemade baby food in minutes. The concept behind Fresh 'n' Quik is simple yet ingenious. The system consists of pre-portioned, organic fruit and vegetable purees that can be quickly and easily blended with breast milk, formula, or water to create a nutritious meal for your little one. The purees are made with high-quality ingredients, free from additives, preservatives, and artificial flavors, ensuring that your baby receives only the best. One of the standout features of Fresh 'n' Quik is the convenience it offers. The purees come in individual, resealable pouches that can be stored in the freezer until you're ready to use them. When it's time to feed your baby, simply pop a pouch into the Fresh 'n' Quik blender, add your liquid of choice, and blend. In less than a minute, you have a fresh, homemade meal that's ready to serve. The blender itself is compact, easy to use, and even easier to clean. The blades are removable, making it a breeze to rinse off any leftover puree. And the best part? The blender is whisper-quiet, so you don't have to worry about waking your sleeping baby while preparing their meal. But what truly sets Fresh 'n' Quik apart is the variety of flavors available. From classic combinations like apple and banana to more adventurous options like mango and kale, there's something for every palate. And because the purees are made with real fruits and vegetables, your baby is exposed to a wide range of flavors and textures, helping to cultivate a diverse and adventurous palate from an early age. In conclusion, Fresh 'n' Quik Baby Food is a game-changer for parents seeking a convenient, nutritious, and delicious option for their little ones. The system is easy to use, quick to clean, and offers a wide variety of flavors to keep your baby's taste buds excited. I highly recommend giving Fresh 'n' Quik a try – your baby (and your schedule) will thank you!",
         "Fresh 'n' Quik Baby Food is a revolutionary product that delivers fresh, homemade baby food in minutes. With pre-portioned, organic fruit and vegetable purees, the system offers convenience, high-quality ingredients, and a wide range of flavors to cultivate a diverse palate in your little one. The blender is compact, easy to use, and whisper-quiet, making mealtime a breeze. Fresh 'n' Quik Baby Food is a must-try for parents seeking a nutritious and delicious option for their babies."
        ]
       ],
       "datasetInfos": [],
       "dbfsResultPath": null,
       "isJsonSchema": true,
       "metadata": {},
       "overflow": false,
       "plotOptions": {
        "customPlotOptions": {},
        "displayType": "table",
        "pivotAggregation": null,
        "pivotColumns": null,
        "xColumns": null,
        "yColumns": null
       },
       "removedWidgets": [],
       "schema": [
        {
         "metadata": "{}",
         "name": "inputs",
         "type": "\"string\""
        },
        {
         "metadata": "{}",
         "name": "ground_truth",
         "type": "\"string\""
        }
       ],
       "type": "table"
      }
     },
     "output_type": "display_data"
    }
   ],
   "source": [
    "\n",
    "import pandas as pd\n",
    "\n",
    "eval_data = pd.DataFrame(\n",
    "    {\n",
    "        \"inputs\": [\n",
    "            \"This coffee is exceptional. Its intensely bold flavor profile is both nutty and fruity – especially with notes of plum and citrus. While the price is relatively good, I find myself needing to purchase bags too often. If this came in 16oz bags instead of just 12oz bags, I'd purchase it all the time. I highly recommend they start scaling up their bag size.\",\n",
    "            \"The moment I opened the tub of Chocolate-Covered Strawberry Delight ice cream, I was greeted by the enticing aroma of fresh strawberries and rich chocolate. The appearance of the ice cream was equally appealing, with a swirl of pink strawberry ice cream and chunks of chocolate-covered strawberries scattered throughout. The first bite did not disappoint. The strawberry ice cream was creamy and flavorful, with a natural sweetness that was not overpowering. The chocolate-covered strawberries added a satisfying crunch fruity bite.\",\n",
    "            \"Arroz Delicioso is a must-try for Mexican cuisine enthusiasts! This authentic Mexican rice, infused with a blend of tomatoes, onions, and garlic, brings a burst of flavor to any meal. Its vibrant color and delightful aroma will transport you straight to the heart of Mexico. The rice cooks evenly, resulting in separate, fluffy grains that hold their shape, making it perfect for dishes like arroz con pollo or as a side for tacos. With a cook time of just 20 minutes, Arroz Delicioso is a convenient and delicious addition to your pantry. Give it a try and elevate your Mexican food game!\",\n",
    "            \"FreshCrunch salad mixes are revolutionizing the way we think about packaged salads! Each bag is packed with a vibrant blend of crisp, nutrient-rich greens, including baby spinach, arugula, and kale. The veggies are pre-washed and ready to eat, making meal prep a breeze. FreshCrunch sets itself apart with its innovative packaging that keeps the greens fresh for up to 10 days, reducing food waste and ensuring you always have a healthy option on hand. The salad mixes are versatile and pair well with various dressings and toppings. Try FreshCrunch for a convenient, delicious, and nutritious meal solution that doesn't compromise on quality or taste!\",\n",
    "            \"If you're a grill enthusiast like me, you know the importance of having the right tools for the job. That's why I was thrilled to get my hands on the new Click-Clack Grill Tongs. These tongs are not just any ordinary grilling utensil; they're a game-changer. First impressions matter, and the Click-Clack Grill Tongs certainly deliver. The sleek, stainless steel design exudes a professional feel, and the ergonomic handle ensures a comfortable grip even during those long grilling sessions. But what truly sets these tongs apart is their innovative 'Click-Clack' mechanism. With a simple press of a button, the tongs automatically open and close, allowing for precise control when flipping or turning your food. No more struggling with stiff, unwieldy tongs that can ruin your carefully prepared meals. The tongs also feature a scalloped edge, which provides a secure grip on everything from juicy steaks to delicate vegetables. And with their generous length, you can keep your hands safely away from the heat while still maintaining optimal control. Cleanup is a breeze thanks to the dishwasher-safe construction, and the integrated hanging loop makes storage a snap. In conclusion, the Click-Clack Grill Tongs have earned a permanent spot in my grilling arsenal. They've made my grilling experience more enjoyable and efficient, and I'm confident they'll do the same for you. So, if you're looking to up your grilling game, I highly recommend giving these tongs a try. Happy grilling!\",\n",
    "            \"As a parent, I understand the importance of providing my child with nutritious, wholesome food. That's why I was thrilled to discover Fresh 'n' Quik Baby Food, a new product that promises to deliver fresh, homemade baby food in minutes. The concept behind Fresh 'n' Quik is simple yet ingenious. The system consists of pre-portioned, organic fruit and vegetable purees that can be quickly and easily blended with breast milk, formula, or water to create a nutritious meal for your little one. The purees are made with high-quality ingredients, free from additives, preservatives, and artificial flavors, ensuring that your baby receives only the best. One of the standout features of Fresh 'n' Quik is the convenience it offers. The purees come in individual, resealable pouches that can be stored in the freezer until you're ready to use them. When it's time to feed your baby, simply pop a pouch into the Fresh 'n' Quik blender, add your liquid of choice, and blend. In less than a minute, you have a fresh, homemade meal that's ready to serve. The blender itself is compact, easy to use, and even easier to clean. The blades are removable, making it a breeze to rinse off any leftover puree. And the best part? The blender is whisper-quiet, so you don't have to worry about waking your sleeping baby while preparing their meal. But what truly sets Fresh 'n' Quik apart is the variety of flavors available. From classic combinations like apple and banana to more adventurous options like mango and kale, there's something for every palate. And because the purees are made with real fruits and vegetables, your baby is exposed to a wide range of flavors and textures, helping to cultivate a diverse and adventurous palate from an early age. In conclusion, Fresh 'n' Quik Baby Food is a game-changer for parents seeking a convenient, nutritious, and delicious option for their little ones. The system is easy to use, quick to clean, and offers a wide variety of flavors to keep your baby's taste buds excited. I highly recommend giving Fresh 'n' Quik a try – your baby (and your schedule) will thank you!\"\n",
    "        ],\n",
    "        \"ground_truth\": [\n",
    "            \"This bold, nutty, and fruity coffee is delicious, and they need to start selling it in larger bags.\",\n",
    "            \"Chocolate-Covered Strawberry Delight ice cream looks delicious with its aroma of strawberry and chocolate, and its creamy, naturally sweet taste did not disappoint.\",\n",
    "            \"Arroz Delicioso offers authentic, flavorful Mexican rice with a blend of tomatoes, onions, and garlic, cooking evenly into separate, fluffy grains in just 20 minutes, making it a convenient and delicious choice for dishes like arroz con pollo or as a side for tacos.\",\n",
    "            \"FreshCrunch salad mixes offer convenient, pre-washed, nutrient-rich greens in an innovative packaging that keeps them fresh for up to 10 days, providing a versatile, tasty, and waste-reducing healthy meal solution.\",\n",
    "            \"The Click-Clack Grill Tongs are a high-quality, innovative grilling tool with a sleek design, comfortable grip, and an automatic opening/closing mechanism for precise control. These tongs have made grilling more enjoyable and efficient, and are highly recommended for anyone looking to improve their grilling experience.\",\n",
    "            \"Fresh 'n' Quik Baby Food is a revolutionary product that delivers fresh, homemade baby food in minutes. With pre-portioned, organic fruit and vegetable purees, the system offers convenience, high-quality ingredients, and a wide range of flavors to cultivate a diverse palate in your little one. The blender is compact, easy to use, and whisper-quiet, making mealtime a breeze. Fresh 'n' Quik Baby Food is a must-try for parents seeking a nutritious and delicious option for their babies.\"\n",
    "        ],\n",
    "    }\n",
    ")\n",
    "\n",
    "display(eval_data)"
   ]
  },
  {
   "cell_type": "markdown",
   "metadata": {
    "application/vnd.databricks.v1+cell": {
     "cellMetadata": {
      "byteLimit": 2048000,
      "rowLimit": 10000
     },
     "inputWidgets": {},
     "nuid": "d1a3fe60-ebcf-4c26-9ac8-e4d17d2bec6b",
     "showTitle": false,
     "tableResultSettingsMap": {},
     "title": ""
    }
   },
   "source": [
    "**Question:** What are some strategies for evaluating your custom-generated benchmark data set? For example:\n",
    "* How can you scale the curation?\n",
    "* How do you know if the ground truth is correct?\n",
    "* Who should have input?\n",
    "* Should it remain static over time?\n",
    "\n",
    "Next, we're saving this reference data set for future use."
   ]
  },
  {
   "cell_type": "code",
   "execution_count": 0,
   "metadata": {
    "application/vnd.databricks.v1+cell": {
     "cellMetadata": {
      "byteLimit": 2048000,
      "rowLimit": 10000
     },
     "inputWidgets": {},
     "nuid": "4729fcdd-2fac-417f-b52e-6e8408e9abe9",
     "showTitle": false,
     "tableResultSettingsMap": {},
     "title": ""
    }
   },
   "outputs": [],
   "source": [
    "spark_df = spark.createDataFrame(eval_data)\n",
    "spark_df.write.mode(\"overwrite\").saveAsTable(f\"{DA.catalog_name}.{DA.schema_name}.case_spec_summ_eval\")"
   ]
  },
  {
   "cell_type": "markdown",
   "metadata": {
    "application/vnd.databricks.v1+cell": {
     "cellMetadata": {
      "byteLimit": 2048000,
      "rowLimit": 10000
     },
     "inputWidgets": {},
     "nuid": "dd98b5af-8d5a-4f62-9452-6db504f2cb7b",
     "showTitle": false,
     "tableResultSettingsMap": {},
     "title": ""
    }
   },
   "source": [
    "## Task 2: Compute ROUGE on Custom Benchmark Data\n",
    "\n",
    "Next, we will want to compute our ROUGE-N metric to understand how well our system summarizes grocery product reviews based on the reference of reviews that was just created.\n",
    "\n",
    "Remember that the `mlflow.evaluate` function accepts the following parameters for this use case:\n",
    "\n",
    "* An LLM model\n",
    "* Reference data for evaluation\n",
    "* Column with ground truth data\n",
    "* The model/task type (e.g. `\"text-summarization\"`)\n"
   ]
  },
  {
   "cell_type": "markdown",
   "metadata": {
    "application/vnd.databricks.v1+cell": {
     "cellMetadata": {
      "byteLimit": 2048000,
      "rowLimit": 10000
     },
     "inputWidgets": {},
     "nuid": "a241c418-67dd-4a7a-b66a-0e2af5ea84dc",
     "showTitle": false,
     "tableResultSettingsMap": {},
     "title": ""
    }
   },
   "source": [
    "### Step 2.1: Run the Evaluation\n",
    "\n",
    "Instead of using the generic benchmark dataset like in the demo, your task is to **compute ROUGE metrics using the case-specific benchmark data that we just created.**\n",
    "\n",
    "**Note:** If needed, refer back to the demo to complete the below code blocks.\n",
    "\n",
    "First, the function that you can use to iterate through rows for `mlflow.evaluate`."
   ]
  },
  {
   "cell_type": "code",
   "execution_count": 0,
   "metadata": {
    "application/vnd.databricks.v1+cell": {
     "cellMetadata": {
      "byteLimit": 2048000,
      "rowLimit": 10000
     },
     "inputWidgets": {},
     "nuid": "651e971d-2387-4d26-91c9-490e3c259c5f",
     "showTitle": false,
     "tableResultSettingsMap": {},
     "title": ""
    }
   },
   "outputs": [
    {
     "output_type": "execute_result",
     "data": {
      "text/plain": [
       "['I highly recommend this exceptional coffee with its intensely bold and fruity flavor profile, but I wish it came in larger bag sizes to reduce frequent purchases.',\n",
       " 'I was thoroughly impressed with the Chocolate-Covered Strawberry Delight ice cream, which had a delicious aroma, appealing appearance, and a creamy, flavorful taste with a perfect balance of sweet and fruity notes.',\n",
       " 'I highly recommend Arroz Delicioso, an authentic Mexican rice that brings a burst of flavor to any meal with its blend of tomatoes, onions, and garlic, and cooks to perfect, fluffy grains in just 20 minutes.',\n",
       " 'I love FreshCrunch salad mixes because they offer a convenient and delicious way to enjoy fresh, nutrient-rich greens that stay crisp for up to 10 days.',\n",
       " \"I'm thrilled with the Click-Clack Grill Tongs, which have become a staple in my grilling arsenal due to their innovative mechanism, ergonomic design, and ease of use and cleanup.\",\n",
       " \"I highly recommend Fresh 'n' Quik Baby Food, a convenient and nutritious system that allows me to quickly and easily prepare healthy, homemade meals for my baby with its pre-portioned organic purees and compact blender.\"]"
      ]
     },
     "execution_count": 13,
     "metadata": {},
     "output_type": "execute_result"
    }
   ],
   "source": [
    "\n",
    "## A custom function to iterate through our eval DF\n",
    "def query_iteration(inputs):\n",
    "    answers = []\n",
    "\n",
    "    for index, row in inputs.iterrows():\n",
    "        completion = query_product_summary_system(row[\"inputs\"])\n",
    "        answers.append(completion)\n",
    "\n",
    "    return answers\n",
    "\n",
    "## Test query_iteration function – it needs to return a list of output strings\n",
    "query_iteration(eval_data)"
   ]
  },
  {
   "cell_type": "markdown",
   "metadata": {
    "application/vnd.databricks.v1+cell": {
     "cellMetadata": {
      "byteLimit": 2048000,
      "rowLimit": 10000
     },
     "inputWidgets": {},
     "nuid": "b198059f-01e2-4ea5-9f1d-9a9e9c7ea68c",
     "showTitle": false,
     "tableResultSettingsMap": {},
     "title": ""
    }
   },
   "source": [
    "Next, use the above function and `mlflow.evaluate` to perform the `text-summarization` evaluation."
   ]
  },
  {
   "cell_type": "code",
   "execution_count": 0,
   "metadata": {
    "application/vnd.databricks.v1+cell": {
     "cellMetadata": {
      "byteLimit": 2048000,
      "rowLimit": 10000
     },
     "inputWidgets": {},
     "nuid": "9c3479b6-8af8-45e4-aa46-f599be68b761",
     "showTitle": false,
     "tableResultSettingsMap": {},
     "title": ""
    }
   },
   "outputs": [
    {
     "output_type": "stream",
     "name": "stderr",
     "output_type": "stream",
     "text": [
      "/local_disk0/.ephemeral_nfs/envs/pythonEnv-3785cae8-5c3d-47dd-bca9-fc63655849b6/lib/python3.10/site-packages/mlflow/models/evaluation/deprecated.py:13: FutureWarning: The `mlflow.evaluate` API has been deprecated as of MLflow 3.0.0. Please use these new alternatives:\n\n - For traditional ML or deep learning models: Use `mlflow.models.evaluate`, which maintains full compatibility with the original `mlflow.evaluate` API.\n\n - For LLMs or GenAI applications: Use the new `mlflow.genai.evaluate` API, which offers enhanced features specifically designed for evaluating LLMs and GenAI applications.\n\n  warnings.warn(\n2025/07/25 11:38:02 INFO mlflow.models.evaluation.evaluators.default: Computing model predictions.\n2025/07/25 11:38:06 INFO mlflow.models.evaluation.default_evaluator: Testing metrics on first row...\n2025/07/25 11:38:07 WARNING mlflow.metrics.metric_definitions: Failed to load 'toxicity' metric (error: ModuleNotFoundError(\"No module named 'evaluate'\")), skipping metric logging.\n2025/07/25 11:38:07 WARNING mlflow.models.evaluation.utils.metric: Did not log metric 'toxicity' at index 1 in the `extra_metrics` parameter because it returned None.\n2025/07/25 11:38:08 WARNING mlflow.metrics.metric_definitions: Failed to load 'rouge' metric (error: ModuleNotFoundError(\"No module named 'evaluate'\")), skipping metric logging.\n2025/07/25 11:38:08 WARNING mlflow.models.evaluation.utils.metric: Did not log metric 'rouge1' at index 4 in the `extra_metrics` parameter because it returned None.\n2025/07/25 11:38:08 WARNING mlflow.metrics.metric_definitions: Failed to load 'rouge' metric (error: ModuleNotFoundError(\"No module named 'evaluate'\")), skipping metric logging.\n2025/07/25 11:38:08 WARNING mlflow.models.evaluation.utils.metric: Did not log metric 'rouge2' at index 5 in the `extra_metrics` parameter because it returned None.\n2025/07/25 11:38:08 WARNING mlflow.metrics.metric_definitions: Failed to load 'rouge' metric (error: ModuleNotFoundError(\"No module named 'evaluate'\")), skipping metric logging.\n2025/07/25 11:38:08 WARNING mlflow.models.evaluation.utils.metric: Did not log metric 'rougeL' at index 6 in the `extra_metrics` parameter because it returned None.\n2025/07/25 11:38:08 WARNING mlflow.metrics.metric_definitions: Failed to load 'rouge' metric (error: ModuleNotFoundError(\"No module named 'evaluate'\")), skipping metric logging.\n2025/07/25 11:38:08 WARNING mlflow.models.evaluation.utils.metric: Did not log metric 'rougeLsum' at index 7 in the `extra_metrics` parameter because it returned None.\n2025/07/25 11:38:08 WARNING mlflow.metrics.metric_definitions: Failed to load 'toxicity' metric (error: ModuleNotFoundError(\"No module named 'evaluate'\")), skipping metric logging.\n2025/07/25 11:38:08 WARNING mlflow.models.evaluation.utils.metric: Did not log metric 'toxicity' at index 1 in the `extra_metrics` parameter because it returned None.\n2025/07/25 11:38:08 WARNING mlflow.metrics.metric_definitions: Failed to load 'rouge' metric (error: ModuleNotFoundError(\"No module named 'evaluate'\")), skipping metric logging.\n2025/07/25 11:38:08 WARNING mlflow.models.evaluation.utils.metric: Did not log metric 'rouge1' at index 4 in the `extra_metrics` parameter because it returned None.\n2025/07/25 11:38:08 WARNING mlflow.metrics.metric_definitions: Failed to load 'rouge' metric (error: ModuleNotFoundError(\"No module named 'evaluate'\")), skipping metric logging.\n2025/07/25 11:38:08 WARNING mlflow.models.evaluation.utils.metric: Did not log metric 'rouge2' at index 5 in the `extra_metrics` parameter because it returned None.\n2025/07/25 11:38:08 WARNING mlflow.metrics.metric_definitions: Failed to load 'rouge' metric (error: ModuleNotFoundError(\"No module named 'evaluate'\")), skipping metric logging.\n2025/07/25 11:38:08 WARNING mlflow.models.evaluation.utils.metric: Did not log metric 'rougeL' at index 6 in the `extra_metrics` parameter because it returned None.\n2025/07/25 11:38:08 WARNING mlflow.metrics.metric_definitions: Failed to load 'rouge' metric (error: ModuleNotFoundError(\"No module named 'evaluate'\")), skipping metric logging.\n2025/07/25 11:38:08 WARNING mlflow.models.evaluation.utils.metric: Did not log metric 'rougeLsum' at index 7 in the `extra_metrics` parameter because it returned None.\n"
     ]
    }
   ],
   "source": [
    "\n",
    "import mlflow\n",
    "\n",
    "## MLflow's `evaluate` with a custom function\n",
    "results = mlflow.evaluate(\n",
    "    query_iteration,                      ## iterative function from above\n",
    "    eval_data,                            ## eval DF\n",
    "    targets=\"ground_truth\",               ## column with expected or \"good\" output\n",
    "    model_type=\"text-summarization\"       ## type of model or task\n",
    ")"
   ]
  },
  {
   "cell_type": "markdown",
   "metadata": {
    "application/vnd.databricks.v1+cell": {
     "cellMetadata": {
      "byteLimit": 2048000,
      "rowLimit": 10000
     },
     "inputWidgets": {},
     "nuid": "889b05dd-a941-474f-acf4-5767d1d42b6a",
     "showTitle": false,
     "tableResultSettingsMap": {},
     "title": ""
    }
   },
   "source": [
    "### Step 2.2: Evaluate the Results\n",
    "\n",
    "Next, take a look at the results."
   ]
  },
  {
   "cell_type": "code",
   "execution_count": 0,
   "metadata": {
    "application/vnd.databricks.v1+cell": {
     "cellMetadata": {
      "byteLimit": 2048000,
      "rowLimit": 10000
     },
     "inputWidgets": {},
     "nuid": "501bafd1-61e4-4214-b3f3-bf6717d4de33",
     "showTitle": false,
     "tableResultSettingsMap": {},
     "title": ""
    }
   },
   "outputs": [
    {
     "output_type": "display_data",
     "data": {
      "application/vnd.jupyter.widget-view+json": {
       "model_id": "793bfc128b044084824548c218fc7c24",
       "version_major": 2,
       "version_minor": 0
      },
      "text/plain": [
       "Downloading artifacts:   0%|          | 0/1 [00:00<?, ?it/s]"
      ]
     },
     "metadata": {},
     "output_type": "display_data"
    },
    {
     "output_type": "display_data",
     "data": {
      "text/html": [
       "<style scoped>\n",
       "  .table-result-container {\n",
       "    max-height: 300px;\n",
       "    overflow: auto;\n",
       "  }\n",
       "  table, th, td {\n",
       "    border: 1px solid black;\n",
       "    border-collapse: collapse;\n",
       "  }\n",
       "  th, td {\n",
       "    padding: 5px;\n",
       "  }\n",
       "  th {\n",
       "    text-align: left;\n",
       "  }\n",
       "</style><div class='table-result-container'><table class='table-result'><thead style='background-color: white'><tr><th>inputs</th><th>ground_truth</th><th>outputs</th><th>token_count</th><th>flesch_kincaid_grade_level/v1/score</th><th>ari_grade_level/v1/score</th></tr></thead><tbody><tr><td>This coffee is exceptional. Its intensely bold flavor profile is both nutty and fruity – especially with notes of plum and citrus. While the price is relatively good, I find myself needing to purchase bags too often. If this came in 16oz bags instead of just 12oz bags, I'd purchase it all the time. I highly recommend they start scaling up their bag size.</td><td>This bold, nutty, and fruity coffee is delicious, and they need to start selling it in larger bags.</td><td>I highly recommend this exceptional coffee with its intensely bold and fruity flavor profile, but I wish it came in larger bag sizes to reduce frequent purchases.</td><td>29</td><td>14.6066666667</td><td>15.7944444444</td></tr><tr><td>The moment I opened the tub of Chocolate-Covered Strawberry Delight ice cream, I was greeted by the enticing aroma of fresh strawberries and rich chocolate. The appearance of the ice cream was equally appealing, with a swirl of pink strawberry ice cream and chunks of chocolate-covered strawberries scattered throughout. The first bite did not disappoint. The strawberry ice cream was creamy and flavorful, with a natural sweetness that was not overpowering. The chocolate-covered strawberries added a satisfying crunch fruity bite.</td><td>Chocolate-Covered Strawberry Delight ice cream looks delicious with its aroma of strawberry and chocolate, and its creamy, naturally sweet taste did not disappoint.</td><td>I was thoroughly impressed with the Chocolate-Covered Strawberry Delight ice cream, which had a delicious aroma, appealing appearance, and a creamy, flavorful taste with a perfect balance of sweet and fruity notes.</td><td>41</td><td>17.17125</td><td>21.5053125</td></tr><tr><td>Arroz Delicioso is a must-try for Mexican cuisine enthusiasts! This authentic Mexican rice, infused with a blend of tomatoes, onions, and garlic, brings a burst of flavor to any meal. Its vibrant color and delightful aroma will transport you straight to the heart of Mexico. The rice cooks evenly, resulting in separate, fluffy grains that hold their shape, making it perfect for dishes like arroz con pollo or as a side for tacos. With a cook time of just 20 minutes, Arroz Delicioso is a convenient and delicious addition to your pantry. Give it a try and elevate your Mexican food game!</td><td>Arroz Delicioso offers authentic, flavorful Mexican rice with a blend of tomatoes, onions, and garlic, cooking evenly into separate, fluffy grains in just 20 minutes, making it a convenient and delicious choice for dishes like arroz con pollo or as a side for tacos.</td><td>I highly recommend Arroz Delicioso, an authentic Mexican rice that brings a burst of flavor to any meal with its blend of tomatoes, onions, and garlic.</td><td>33</td><td>13.6115384615</td><td>14.3953846154</td></tr><tr><td>FreshCrunch salad mixes are revolutionizing the way we think about packaged salads! Each bag is packed with a vibrant blend of crisp, nutrient-rich greens, including baby spinach, arugula, and kale. The veggies are pre-washed and ready to eat, making meal prep a breeze. FreshCrunch sets itself apart with its innovative packaging that keeps the greens fresh for up to 10 days, reducing food waste and ensuring you always have a healthy option on hand. The salad mixes are versatile and pair well with various dressings and toppings. Try FreshCrunch for a convenient, delicious, and nutritious meal solution that doesn't compromise on quality or taste!</td><td>FreshCrunch salad mixes offer convenient, pre-washed, nutrient-rich greens in an innovative packaging that keeps them fresh for up to 10 days, providing a versatile, tasty, and waste-reducing healthy meal solution.</td><td>I love FreshCrunch salad mixes because they offer a convenient and nutritious meal solution with their pre-washed, long-lasting, and versatile blends of fresh greens.</td><td>32</td><td>12.945</td><td>18.63375</td></tr><tr><td>If you're a grill enthusiast like me, you know the importance of having the right tools for the job. That's why I was thrilled to get my hands on the new Click-Clack Grill Tongs. These tongs are not just any ordinary grilling utensil; they're a game-changer. First impressions matter, and the Click-Clack Grill Tongs certainly deliver. The sleek, stainless steel design exudes a professional feel, and the ergonomic handle ensures a comfortable grip even during those long grilling sessions. But what truly sets these tongs apart is their innovative 'Click-Clack' mechanism. With a simple press of a button, the tongs automatically open and close, allowing for precise control when flipping or turning your food. No more struggling with stiff, unwieldy tongs that can ruin your carefully prepared meals. The tongs also feature a scalloped edge, which provides a secure grip on everything from juicy steaks to delicate vegetables. And with their generous length, you can keep your hands safely away from the heat while still maintaining optimal control. Cleanup is a breeze thanks to the dishwasher-safe construction, and the integrated hanging loop makes storage a snap. In conclusion, the Click-Clack Grill Tongs have earned a permanent spot in my grilling arsenal. They've made my grilling experience more enjoyable and efficient, and I'm confident they'll do the same for you. So, if you're looking to up your grilling game, I highly recommend giving these tongs a try. Happy grilling!</td><td>The Click-Clack Grill Tongs are a high-quality, innovative grilling tool with a sleek design, comfortable grip, and an automatic opening/closing mechanism for precise control. These tongs have made grilling more enjoyable and efficient, and are highly recommended for anyone looking to improve their grilling experience.</td><td>I'm thoroughly impressed with the Click-Clack Grill Tongs, which have become a staple in my grilling arsenal due to their innovative mechanism, comfortable design, and ease of use.</td><td>38</td><td>15.1371428571</td><td>18.3067857143</td></tr><tr><td>As a parent, I understand the importance of providing my child with nutritious, wholesome food. That's why I was thrilled to discover Fresh 'n' Quik Baby Food, a new product that promises to deliver fresh, homemade baby food in minutes. The concept behind Fresh 'n' Quik is simple yet ingenious. The system consists of pre-portioned, organic fruit and vegetable purees that can be quickly and easily blended with breast milk, formula, or water to create a nutritious meal for your little one. The purees are made with high-quality ingredients, free from additives, preservatives, and artificial flavors, ensuring that your baby receives only the best. One of the standout features of Fresh 'n' Quik is the convenience it offers. The purees come in individual, resealable pouches that can be stored in the freezer until you're ready to use them. When it's time to feed your baby, simply pop a pouch into the Fresh 'n' Quik blender, add your liquid of choice, and blend. In less than a minute, you have a fresh, homemade meal that's ready to serve. The blender itself is compact, easy to use, and even easier to clean. The blades are removable, making it a breeze to rinse off any leftover puree. And the best part? The blender is whisper-quiet, so you don't have to worry about waking your sleeping baby while preparing their meal. But what truly sets Fresh 'n' Quik apart is the variety of flavors available. From classic combinations like apple and banana to more adventurous options like mango and kale, there's something for every palate. And because the purees are made with real fruits and vegetables, your baby is exposed to a wide range of flavors and textures, helping to cultivate a diverse and adventurous palate from an early age. In conclusion, Fresh 'n' Quik Baby Food is a game-changer for parents seeking a convenient, nutritious, and delicious option for their little ones. The system is easy to use, quick to clean, and offers a wide variety of flavors to keep your baby's taste buds excited. I highly recommend giving Fresh 'n' Quik a try – your baby (and your schedule) will thank you!</td><td>Fresh 'n' Quik Baby Food is a revolutionary product that delivers fresh, homemade baby food in minutes. With pre-portioned, organic fruit and vegetable purees, the system offers convenience, high-quality ingredients, and a wide range of flavors to cultivate a diverse palate in your little one. The blender is compact, easy to use, and whisper-quiet, making mealtime a breeze. Fresh 'n' Quik Baby Food is a must-try for parents seeking a nutritious and delicious option for their babies.</td><td>I highly recommend Fresh 'n' Quik Baby Food, a convenient and nutritious system that allows me to quickly blend homemade-style meals for my baby using pre-portioned, organic purees and my choice of liquid.</td><td>44</td><td>15.8739393939</td><td>19.7618181818</td></tr></tbody></table></div>"
      ]
     },
     "metadata": {
      "application/vnd.databricks.v1+output": {
       "addedWidgets": {},
       "aggData": [],
       "aggError": "",
       "aggOverflow": false,
       "aggSchema": [],
       "aggSeriesLimitReached": false,
       "aggType": "",
       "arguments": {},
       "columnCustomDisplayInfos": {},
       "data": [
        [
         "This coffee is exceptional. Its intensely bold flavor profile is both nutty and fruity – especially with notes of plum and citrus. While the price is relatively good, I find myself needing to purchase bags too often. If this came in 16oz bags instead of just 12oz bags, I'd purchase it all the time. I highly recommend they start scaling up their bag size.",
         "This bold, nutty, and fruity coffee is delicious, and they need to start selling it in larger bags.",
         "I highly recommend this exceptional coffee with its intensely bold and fruity flavor profile, but I wish it came in larger bag sizes to reduce frequent purchases.",
         29,
         14.6066666667,
         15.7944444444
        ],
        [
         "The moment I opened the tub of Chocolate-Covered Strawberry Delight ice cream, I was greeted by the enticing aroma of fresh strawberries and rich chocolate. The appearance of the ice cream was equally appealing, with a swirl of pink strawberry ice cream and chunks of chocolate-covered strawberries scattered throughout. The first bite did not disappoint. The strawberry ice cream was creamy and flavorful, with a natural sweetness that was not overpowering. The chocolate-covered strawberries added a satisfying crunch fruity bite.",
         "Chocolate-Covered Strawberry Delight ice cream looks delicious with its aroma of strawberry and chocolate, and its creamy, naturally sweet taste did not disappoint.",
         "I was thoroughly impressed with the Chocolate-Covered Strawberry Delight ice cream, which had a delicious aroma, appealing appearance, and a creamy, flavorful taste with a perfect balance of sweet and fruity notes.",
         41,
         17.17125,
         21.5053125
        ],
        [
         "Arroz Delicioso is a must-try for Mexican cuisine enthusiasts! This authentic Mexican rice, infused with a blend of tomatoes, onions, and garlic, brings a burst of flavor to any meal. Its vibrant color and delightful aroma will transport you straight to the heart of Mexico. The rice cooks evenly, resulting in separate, fluffy grains that hold their shape, making it perfect for dishes like arroz con pollo or as a side for tacos. With a cook time of just 20 minutes, Arroz Delicioso is a convenient and delicious addition to your pantry. Give it a try and elevate your Mexican food game!",
         "Arroz Delicioso offers authentic, flavorful Mexican rice with a blend of tomatoes, onions, and garlic, cooking evenly into separate, fluffy grains in just 20 minutes, making it a convenient and delicious choice for dishes like arroz con pollo or as a side for tacos.",
         "I highly recommend Arroz Delicioso, an authentic Mexican rice that brings a burst of flavor to any meal with its blend of tomatoes, onions, and garlic.",
         33,
         13.6115384615,
         14.3953846154
        ],
        [
         "FreshCrunch salad mixes are revolutionizing the way we think about packaged salads! Each bag is packed with a vibrant blend of crisp, nutrient-rich greens, including baby spinach, arugula, and kale. The veggies are pre-washed and ready to eat, making meal prep a breeze. FreshCrunch sets itself apart with its innovative packaging that keeps the greens fresh for up to 10 days, reducing food waste and ensuring you always have a healthy option on hand. The salad mixes are versatile and pair well with various dressings and toppings. Try FreshCrunch for a convenient, delicious, and nutritious meal solution that doesn't compromise on quality or taste!",
         "FreshCrunch salad mixes offer convenient, pre-washed, nutrient-rich greens in an innovative packaging that keeps them fresh for up to 10 days, providing a versatile, tasty, and waste-reducing healthy meal solution.",
         "I love FreshCrunch salad mixes because they offer a convenient and nutritious meal solution with their pre-washed, long-lasting, and versatile blends of fresh greens.",
         32,
         12.945,
         18.63375
        ],
        [
         "If you're a grill enthusiast like me, you know the importance of having the right tools for the job. That's why I was thrilled to get my hands on the new Click-Clack Grill Tongs. These tongs are not just any ordinary grilling utensil; they're a game-changer. First impressions matter, and the Click-Clack Grill Tongs certainly deliver. The sleek, stainless steel design exudes a professional feel, and the ergonomic handle ensures a comfortable grip even during those long grilling sessions. But what truly sets these tongs apart is their innovative 'Click-Clack' mechanism. With a simple press of a button, the tongs automatically open and close, allowing for precise control when flipping or turning your food. No more struggling with stiff, unwieldy tongs that can ruin your carefully prepared meals. The tongs also feature a scalloped edge, which provides a secure grip on everything from juicy steaks to delicate vegetables. And with their generous length, you can keep your hands safely away from the heat while still maintaining optimal control. Cleanup is a breeze thanks to the dishwasher-safe construction, and the integrated hanging loop makes storage a snap. In conclusion, the Click-Clack Grill Tongs have earned a permanent spot in my grilling arsenal. They've made my grilling experience more enjoyable and efficient, and I'm confident they'll do the same for you. So, if you're looking to up your grilling game, I highly recommend giving these tongs a try. Happy grilling!",
         "The Click-Clack Grill Tongs are a high-quality, innovative grilling tool with a sleek design, comfortable grip, and an automatic opening/closing mechanism for precise control. These tongs have made grilling more enjoyable and efficient, and are highly recommended for anyone looking to improve their grilling experience.",
         "I'm thoroughly impressed with the Click-Clack Grill Tongs, which have become a staple in my grilling arsenal due to their innovative mechanism, comfortable design, and ease of use.",
         38,
         15.1371428571,
         18.3067857143
        ],
        [
         "As a parent, I understand the importance of providing my child with nutritious, wholesome food. That's why I was thrilled to discover Fresh 'n' Quik Baby Food, a new product that promises to deliver fresh, homemade baby food in minutes. The concept behind Fresh 'n' Quik is simple yet ingenious. The system consists of pre-portioned, organic fruit and vegetable purees that can be quickly and easily blended with breast milk, formula, or water to create a nutritious meal for your little one. The purees are made with high-quality ingredients, free from additives, preservatives, and artificial flavors, ensuring that your baby receives only the best. One of the standout features of Fresh 'n' Quik is the convenience it offers. The purees come in individual, resealable pouches that can be stored in the freezer until you're ready to use them. When it's time to feed your baby, simply pop a pouch into the Fresh 'n' Quik blender, add your liquid of choice, and blend. In less than a minute, you have a fresh, homemade meal that's ready to serve. The blender itself is compact, easy to use, and even easier to clean. The blades are removable, making it a breeze to rinse off any leftover puree. And the best part? The blender is whisper-quiet, so you don't have to worry about waking your sleeping baby while preparing their meal. But what truly sets Fresh 'n' Quik apart is the variety of flavors available. From classic combinations like apple and banana to more adventurous options like mango and kale, there's something for every palate. And because the purees are made with real fruits and vegetables, your baby is exposed to a wide range of flavors and textures, helping to cultivate a diverse and adventurous palate from an early age. In conclusion, Fresh 'n' Quik Baby Food is a game-changer for parents seeking a convenient, nutritious, and delicious option for their little ones. The system is easy to use, quick to clean, and offers a wide variety of flavors to keep your baby's taste buds excited. I highly recommend giving Fresh 'n' Quik a try – your baby (and your schedule) will thank you!",
         "Fresh 'n' Quik Baby Food is a revolutionary product that delivers fresh, homemade baby food in minutes. With pre-portioned, organic fruit and vegetable purees, the system offers convenience, high-quality ingredients, and a wide range of flavors to cultivate a diverse palate in your little one. The blender is compact, easy to use, and whisper-quiet, making mealtime a breeze. Fresh 'n' Quik Baby Food is a must-try for parents seeking a nutritious and delicious option for their babies.",
         "I highly recommend Fresh 'n' Quik Baby Food, a convenient and nutritious system that allows me to quickly blend homemade-style meals for my baby using pre-portioned, organic purees and my choice of liquid.",
         44,
         15.8739393939,
         19.7618181818
        ]
       ],
       "datasetInfos": [],
       "dbfsResultPath": null,
       "isJsonSchema": true,
       "metadata": {},
       "overflow": false,
       "plotOptions": {
        "customPlotOptions": {},
        "displayType": "table",
        "pivotAggregation": null,
        "pivotColumns": null,
        "xColumns": null,
        "yColumns": null
       },
       "removedWidgets": [],
       "schema": [
        {
         "metadata": "{}",
         "name": "inputs",
         "type": "\"string\""
        },
        {
         "metadata": "{}",
         "name": "ground_truth",
         "type": "\"string\""
        },
        {
         "metadata": "{}",
         "name": "outputs",
         "type": "\"string\""
        },
        {
         "metadata": "{}",
         "name": "token_count",
         "type": "\"long\""
        },
        {
         "metadata": "{}",
         "name": "flesch_kincaid_grade_level/v1/score",
         "type": "\"double\""
        },
        {
         "metadata": "{}",
         "name": "ari_grade_level/v1/score",
         "type": "\"double\""
        }
       ],
       "type": "table"
      }
     },
     "output_type": "display_data"
    }
   ],
   "source": [
    "\n",
    "display(results.tables[\"eval_results_table\"])"
   ]
  },
  {
   "cell_type": "markdown",
   "metadata": {
    "application/vnd.databricks.v1+cell": {
     "cellMetadata": {
      "byteLimit": 2048000,
      "rowLimit": 10000
     },
     "inputWidgets": {},
     "nuid": "c96f6d42-7708-4b98-bdbc-53cadc644db2",
     "showTitle": false,
     "tableResultSettingsMap": {},
     "title": ""
    }
   },
   "source": [
    "**Question:** How do we interpret these results? What does it tell us about the summarization quality? About our LLM?\n",
    "\n",
    "Next, compute the summarized metrics to view the performance of the LLM on the entire dataset."
   ]
  },
  {
   "cell_type": "code",
   "execution_count": 0,
   "metadata": {
    "application/vnd.databricks.v1+cell": {
     "cellMetadata": {
      "byteLimit": 2048000,
      "rowLimit": 10000
     },
     "inputWidgets": {},
     "nuid": "1e9c6df2-0935-420c-8c52-3c42741ab774",
     "showTitle": false,
     "tableResultSettingsMap": {},
     "title": ""
    }
   },
   "outputs": [
    {
     "output_type": "execute_result",
     "data": {
      "text/plain": [
       "{'flesch_kincaid_grade_level/v1/mean': 14.890922896547899,\n",
       " 'flesch_kincaid_grade_level/v1/variance': 1.9551799096595943,\n",
       " 'flesch_kincaid_grade_level/v1/p90': 16.522594696969698,\n",
       " 'ari_grade_level/v1/mean': 18.06624924265549,\n",
       " 'ari_grade_level/v1/variance': 5.619728195360746,\n",
       " 'ari_grade_level/v1/p90': 20.633565340909087}"
      ]
     },
     "execution_count": 16,
     "metadata": {},
     "output_type": "execute_result"
    }
   ],
   "source": [
    "results.metrics"
   ]
  },
  {
   "cell_type": "markdown",
   "metadata": {
    "application/vnd.databricks.v1+cell": {
     "cellMetadata": {
      "byteLimit": 2048000,
      "rowLimit": 10000
     },
     "inputWidgets": {},
     "nuid": "e0431224-1a6c-4864-a425-181903252a7b",
     "showTitle": false,
     "tableResultSettingsMap": {},
     "title": ""
    }
   },
   "source": [
    "**Bonus:** Take a look at the results in the Experiment Tracking UI.\n",
    "\n",
    "Do you see any summaries that you think are particularly good or problematic?"
   ]
  },
  {
   "cell_type": "markdown",
   "metadata": {
    "application/vnd.databricks.v1+cell": {
     "cellMetadata": {
      "byteLimit": 2048000,
      "rowLimit": 10000
     },
     "inputWidgets": {},
     "nuid": "e37a6dc5-4147-4c6a-8c5b-1251fe5b1794",
     "showTitle": false,
     "tableResultSettingsMap": {},
     "title": ""
    }
   },
   "source": [
    "## Task 3: Use an LLM-as-a-Judge Approach to Evaluate Custom Metrics\n",
    "\n",
    "In this task, you will define and evaluate a custom metric called \"professionalism\" using an LLM-as-a-Judge approach. The goal is to assess how professionally written the summaries generated by the language model are, based on a set of predefined criteria.\n"
   ]
  },
  {
   "cell_type": "markdown",
   "metadata": {
    "application/vnd.databricks.v1+cell": {
     "cellMetadata": {
      "byteLimit": 2048000,
      "rowLimit": 10000
     },
     "inputWidgets": {},
     "nuid": "9a49af71-1b38-46a0-8983-24d42fc121bd",
     "showTitle": false,
     "tableResultSettingsMap": {},
     "title": ""
    }
   },
   "source": [
    "### Step 3.1: Define a Humor Metric\n",
    "\n",
    "- Define humor and create a grading prompt.\n",
    "\n",
    "  **To Do:**\n",
    "\n",
    "  For this task, you are provided with an initial example of humor (humor_example_score_1). Your task is to generate another evaluation example (humor_example_score_2). \n",
    "\n",
    "  **Hint:** You can use AI Playground for this. Ensure that the generated example is relevant to the prompt and reflects a different humor score. Manually verify the generated example to ensure its correctness.\n"
   ]
  },
  {
   "cell_type": "code",
   "execution_count": 0,
   "metadata": {
    "application/vnd.databricks.v1+cell": {
     "cellMetadata": {
      "byteLimit": 2048000,
      "rowLimit": 10000
     },
     "inputWidgets": {},
     "nuid": "bde6bbee-1f13-4876-821f-7549774b5748",
     "showTitle": false,
     "tableResultSettingsMap": {},
     "title": ""
    }
   },
   "outputs": [],
   "source": [
    "## Define an evaluation example for humor with a score of 2\n",
    "humor_example_score_1 = mlflow.metrics.genai.EvaluationExample(\n",
    "    input=\"Tell me a joke!\",  \n",
    "    output=(\n",
    "        \"Why don't scientists trust atoms? Because they make up everything!\"  \n",
    "    ),\n",
    "    score=2,  ## Humor score assigned to the output\n",
    "    justification=(\n",
    "        \"The joke uses a common pun and is somewhat humorous, but it may not elicit strong laughter or amusement from everyone.\"  ## Justification for the assigned score\n",
    "    ),\n",
    ")\n",
    "\n",
    "## Define another evaluation example for humor with a score of 4\n",
    "humor_example_score_2 = mlflow.metrics.genai.EvaluationExample(\n",
    "    input=\"Tell me a joke!\",  \n",
    "    output=(\n",
    "        \"I told my wife she was drawing her eyebrows too high. She looked surprised!\"  \n",
    "    ),\n",
    "    score=4,  ## Humor score assigned to the output\n",
    "    justification=(\n",
    "        \"The joke is clever and unexpected, resulting in genuine amusement and laughter. It demonstrates wit and creativity, making it highly enjoyable.\"  ## Justification for the assigned score\n",
    "    ),\n",
    ")"
   ]
  },
  {
   "cell_type": "markdown",
   "metadata": {
    "application/vnd.databricks.v1+cell": {
     "cellMetadata": {
      "byteLimit": 2048000,
      "rowLimit": 10000
     },
     "inputWidgets": {},
     "nuid": "672b1da0-6c2c-47b7-baf2-52a0002f46eb",
     "showTitle": false,
     "tableResultSettingsMap": {},
     "title": ""
    }
   },
   "source": [
    "### Step 3.2: LLM-as-a-Judge to Compare Metric\n",
    "\n",
    "* **3.2.1:  Create a metric for comparing the responses for humor**\n",
    "\n",
    "  Define a custom metric to evaluate the humor in generated responses. This metric will assess the level of humor present in the responses generated by the language model."
   ]
  },
  {
   "cell_type": "code",
   "execution_count": 0,
   "metadata": {
    "application/vnd.databricks.v1+cell": {
     "cellMetadata": {
      "byteLimit": 2048000,
      "rowLimit": 10000
     },
     "inputWidgets": {},
     "nuid": "f3044ba2-46ef-4098-90cc-46f6fb3d541c",
     "showTitle": false,
     "tableResultSettingsMap": {},
     "title": ""
    }
   },
   "outputs": [],
   "source": [
    "## Define the metric for the evaluation\n",
    "comparison_humor_metric = mlflow.metrics.genai.make_genai_metric(\n",
    "    name=\"comparison_humor\",\n",
    "    definition=(\n",
    "        \"Humor refers to the ability to evoke laughter, amusement, or enjoyment through cleverness, wit, or unexpected twists.\"\n",
    "    ),\n",
    "    grading_prompt=(\n",
    "        \"Humor: If the response is funny and induces laughter or amusement, below are the details for different scores: \"\n",
    "        \"- Score 1: The response attempts humor but falls flat, eliciting little to no laughter or amusement.\"\n",
    "        \"- Score 2: The response is somewhat humorous, eliciting mild laughter or amusement from some individuals.\"\n",
    "        \"- Score 3: The response is moderately funny, eliciting genuine laughter or amusement from most individuals.\"\n",
    "        \"- Score 4: The response is highly humorous, eliciting strong laughter or amusement from nearly everyone.\"\n",
    "        \"- Score 5: The response is exceptionally funny, resulting in uncontrollable laughter or intense enjoyment.\"\n",
    "    ),\n",
    "    ## Examples for humor\n",
    "    examples=[\n",
    "        humor_example_score_1, \n",
    "        humor_example_score_2\n",
    "    ],\n",
    "    model=\"endpoints:/databricks-meta-llama-3-3-70b-instruct\",\n",
    "    parameters={\"temperature\": 0.0},\n",
    "    aggregations=[\"mean\", \"variance\"],\n",
    "    greater_is_better=True,\n",
    ")"
   ]
  },
  {
   "cell_type": "markdown",
   "metadata": {
    "application/vnd.databricks.v1+cell": {
     "cellMetadata": {
      "byteLimit": 2048000,
      "rowLimit": 10000
     },
     "inputWidgets": {},
     "nuid": "af768b0a-98a0-45eb-9aea-71403d5362db",
     "showTitle": false,
     "tableResultSettingsMap": {},
     "title": ""
    }
   },
   "source": [
    "* **3.2.2: Generate data with varying humor levels**\n",
    "\n",
    "  Add input prompts and corresponding output responses with different levels of humor. \n",
    "  \n",
    "  **Hint:** You can utilize AI playgrounds to generate these values."
   ]
  },
  {
   "cell_type": "code",
   "execution_count": 0,
   "metadata": {
    "application/vnd.databricks.v1+cell": {
     "cellMetadata": {
      "byteLimit": 2048000,
      "rowLimit": 10000
     },
     "inputWidgets": {},
     "nuid": "246b5e15-100b-474d-a4cd-d70613da8d7c",
     "showTitle": false,
     "tableResultSettingsMap": {},
     "title": ""
    }
   },
   "outputs": [],
   "source": [
    "## Define testing data with different humor scores for comparison\n",
    "humor_data = pd.DataFrame(\n",
    "    {\n",
    "        \"inputs\": [\n",
    "            \"Tell me a joke about pandas.\",\n",
    "            \"What's a programmer's favorite place to hang out?\",\n",
    "            \"Why don't scientists trust atoms?\",\n",
    "            \"Why did the scarecrow win an award?\"\n",
    "        ],\n",
    "        \"ground_truth\": [\n",
    "            \"Why did the pandas break up? Because they couldn't bamboo-zle their problems away!\",\n",
    "            \"The Foo Bar!\",\n",
    "            \"Because they make up everything!\",\n",
    "            \"Because he was outstanding in his field!\"\n",
    "        ],\n",
    "    }\n",
    ")"
   ]
  },
  {
   "cell_type": "markdown",
   "metadata": {
    "application/vnd.databricks.v1+cell": {
     "cellMetadata": {
      "byteLimit": 2048000,
      "rowLimit": 10000
     },
     "inputWidgets": {},
     "nuid": "93f734cb-d3ea-475d-8015-53e9c19db3d1",
     "showTitle": false,
     "tableResultSettingsMap": {},
     "title": ""
    }
   },
   "source": [
    "* **3.2.3: Evaluate the Comparison**\n",
    "\n",
    "  Next, evaluate the comparison between the responses generated by the language model. This evaluation will provide you with a metric for assessing the professionalism of the generated summaries based on predefined criteria.\n"
   ]
  },
  {
   "cell_type": "code",
   "execution_count": 0,
   "metadata": {
    "application/vnd.databricks.v1+cell": {
     "cellMetadata": {
      "byteLimit": 2048000,
      "rowLimit": 10000
     },
     "inputWidgets": {},
     "nuid": "b0dd9762-247e-4560-96ce-8e947cfb3feb",
     "showTitle": false,
     "tableResultSettingsMap": {},
     "title": ""
    }
   },
   "outputs": [
    {
     "output_type": "stream",
     "name": "stderr",
     "output_type": "stream",
     "text": [
      "/local_disk0/.ephemeral_nfs/envs/pythonEnv-3785cae8-5c3d-47dd-bca9-fc63655849b6/lib/python3.10/site-packages/mlflow/models/evaluation/deprecated.py:13: FutureWarning: The `mlflow.evaluate` API has been deprecated as of MLflow 3.0.0. Please use these new alternatives:\n\n - For traditional ML or deep learning models: Use `mlflow.models.evaluate`, which maintains full compatibility with the original `mlflow.evaluate` API.\n\n - For LLMs or GenAI applications: Use the new `mlflow.genai.evaluate` API, which offers enhanced features specifically designed for evaluating LLMs and GenAI applications.\n\n  warnings.warn(\n2025/07/25 11:38:15 INFO mlflow.models.evaluation.evaluators.default: Computing model predictions.\n2025/07/25 11:38:22 INFO mlflow.models.evaluation.default_evaluator: Testing metrics on first row...\n2025/07/25 11:38:22 WARNING mlflow.metrics.metric_definitions: Failed to load 'toxicity' metric (error: ModuleNotFoundError(\"No module named 'evaluate'\")), skipping metric logging.\n2025/07/25 11:38:22 WARNING mlflow.models.evaluation.utils.metric: Did not log metric 'toxicity' at index 1 in the `extra_metrics` parameter because it returned None.\n2025/07/25 11:38:22 WARNING mlflow.metrics.metric_definitions: Failed to load 'rouge' metric (error: ModuleNotFoundError(\"No module named 'evaluate'\")), skipping metric logging.\n2025/07/25 11:38:22 WARNING mlflow.models.evaluation.utils.metric: Did not log metric 'rouge1' at index 4 in the `extra_metrics` parameter because it returned None.\n2025/07/25 11:38:22 WARNING mlflow.metrics.metric_definitions: Failed to load 'rouge' metric (error: ModuleNotFoundError(\"No module named 'evaluate'\")), skipping metric logging.\n2025/07/25 11:38:22 WARNING mlflow.models.evaluation.utils.metric: Did not log metric 'rouge2' at index 5 in the `extra_metrics` parameter because it returned None.\n2025/07/25 11:38:22 WARNING mlflow.metrics.metric_definitions: Failed to load 'rouge' metric (error: ModuleNotFoundError(\"No module named 'evaluate'\")), skipping metric logging.\n2025/07/25 11:38:22 WARNING mlflow.models.evaluation.utils.metric: Did not log metric 'rougeL' at index 6 in the `extra_metrics` parameter because it returned None.\n2025/07/25 11:38:22 WARNING mlflow.metrics.metric_definitions: Failed to load 'rouge' metric (error: ModuleNotFoundError(\"No module named 'evaluate'\")), skipping metric logging.\n2025/07/25 11:38:22 WARNING mlflow.models.evaluation.utils.metric: Did not log metric 'rougeLsum' at index 7 in the `extra_metrics` parameter because it returned None.\n"
     ]
    },
    {
     "output_type": "display_data",
     "data": {
      "application/vnd.jupyter.widget-view+json": {
       "model_id": "f1235f3b56504afe8ad7f4b7e40e49ce",
       "version_major": 2,
       "version_minor": 0
      },
      "text/plain": [
       "  0%|          | 0/1 [00:00<?, ?it/s]"
      ]
     },
     "metadata": {},
     "output_type": "display_data"
    },
    {
     "output_type": "stream",
     "name": "stderr",
     "output_type": "stream",
     "text": [
      "2025/07/25 11:38:23 WARNING mlflow.metrics.metric_definitions: Failed to load 'toxicity' metric (error: ModuleNotFoundError(\"No module named 'evaluate'\")), skipping metric logging.\n2025/07/25 11:38:23 WARNING mlflow.models.evaluation.utils.metric: Did not log metric 'toxicity' at index 1 in the `extra_metrics` parameter because it returned None.\n2025/07/25 11:38:23 WARNING mlflow.metrics.metric_definitions: Failed to load 'rouge' metric (error: ModuleNotFoundError(\"No module named 'evaluate'\")), skipping metric logging.\n2025/07/25 11:38:23 WARNING mlflow.models.evaluation.utils.metric: Did not log metric 'rouge1' at index 4 in the `extra_metrics` parameter because it returned None.\n2025/07/25 11:38:23 WARNING mlflow.metrics.metric_definitions: Failed to load 'rouge' metric (error: ModuleNotFoundError(\"No module named 'evaluate'\")), skipping metric logging.\n2025/07/25 11:38:23 WARNING mlflow.models.evaluation.utils.metric: Did not log metric 'rouge2' at index 5 in the `extra_metrics` parameter because it returned None.\n2025/07/25 11:38:23 WARNING mlflow.metrics.metric_definitions: Failed to load 'rouge' metric (error: ModuleNotFoundError(\"No module named 'evaluate'\")), skipping metric logging.\n2025/07/25 11:38:23 WARNING mlflow.models.evaluation.utils.metric: Did not log metric 'rougeL' at index 6 in the `extra_metrics` parameter because it returned None.\n2025/07/25 11:38:23 WARNING mlflow.metrics.metric_definitions: Failed to load 'rouge' metric (error: ModuleNotFoundError(\"No module named 'evaluate'\")), skipping metric logging.\n2025/07/25 11:38:23 WARNING mlflow.models.evaluation.utils.metric: Did not log metric 'rougeLsum' at index 7 in the `extra_metrics` parameter because it returned None.\n"
     ]
    },
    {
     "output_type": "display_data",
     "data": {
      "application/vnd.jupyter.widget-view+json": {
       "model_id": "c91811b1dcf842a481e73c0c9c2c484a",
       "version_major": 2,
       "version_minor": 0
      },
      "text/plain": [
       "  0%|          | 0/4 [00:00<?, ?it/s]"
      ]
     },
     "metadata": {},
     "output_type": "display_data"
    }
   ],
   "source": [
    "benchmark_comparison_results = mlflow.evaluate(\n",
    "    model=\"endpoints:/databricks-meta-llama-3-3-70b-instruct\",  ## Model used for evaluation\n",
    "    data=humor_data,                               ## Data for evaluation\n",
    "    targets=\"ground_truth\",                       ## Column with the ground truth data\n",
    "    model_type=\"text-summarization\",              ## Type of model or task\n",
    "    extra_metrics=[comparison_humor_metric],  ## Custom metric for evaluating professionalism\n",
    ")"
   ]
  },
  {
   "cell_type": "markdown",
   "metadata": {
    "application/vnd.databricks.v1+cell": {
     "cellMetadata": {
      "byteLimit": 2048000,
      "rowLimit": 10000
     },
     "inputWidgets": {},
     "nuid": "4b372ad2-acf4-4c78-a1cf-247c1f372e07",
     "showTitle": false,
     "tableResultSettingsMap": {},
     "title": ""
    }
   },
   "source": [
    "* **3.2.4: View Comparison Results**\n",
    "\n",
    "  Now, let's take a look at the results of the comparison between the responses generated by the language model. This comparison provides insights into the professionalism of the generated summaries based on the predefined criteria.\n"
   ]
  },
  {
   "cell_type": "code",
   "execution_count": 0,
   "metadata": {
    "application/vnd.databricks.v1+cell": {
     "cellMetadata": {
      "byteLimit": 2048000,
      "rowLimit": 10000
     },
     "inputWidgets": {},
     "nuid": "5b3942e9-1da1-46e4-a601-1f5f99ec0e4c",
     "showTitle": false,
     "tableResultSettingsMap": {},
     "title": ""
    }
   },
   "outputs": [
    {
     "output_type": "display_data",
     "data": {
      "application/vnd.jupyter.widget-view+json": {
       "model_id": "544283f03e6e4646921c7e2111b34b6f",
       "version_major": 2,
       "version_minor": 0
      },
      "text/plain": [
       "Downloading artifacts:   0%|          | 0/1 [00:00<?, ?it/s]"
      ]
     },
     "metadata": {},
     "output_type": "display_data"
    },
    {
     "output_type": "display_data",
     "data": {
      "application/vnd.jupyter.widget-view+json": {
       "model_id": "cf92eb4758494a419e73ca45a59b3f1f",
       "version_major": 2,
       "version_minor": 0
      },
      "text/plain": [
       "Downloading artifacts:   0%|          | 0/1 [00:00<?, ?it/s]"
      ]
     },
     "metadata": {},
     "output_type": "display_data"
    },
    {
     "output_type": "display_data",
     "data": {
      "text/html": [
       "<style scoped>\n",
       "  .table-result-container {\n",
       "    max-height: 300px;\n",
       "    overflow: auto;\n",
       "  }\n",
       "  table, th, td {\n",
       "    border: 1px solid black;\n",
       "    border-collapse: collapse;\n",
       "  }\n",
       "  th, td {\n",
       "    padding: 5px;\n",
       "  }\n",
       "  th {\n",
       "    text-align: left;\n",
       "  }\n",
       "</style><div class='table-result-container'><table class='table-result'><thead style='background-color: white'><tr><th>inputs</th><th>ground_truth</th><th>outputs</th><th>token_count</th><th>flesch_kincaid_grade_level/v1/score</th><th>ari_grade_level/v1/score</th><th>comparison_humor/v1/score</th><th>comparison_humor/v1/justification</th></tr></thead><tbody><tr><td>Tell me a joke about pandas.</td><td>Why did the pandas break up? Because they couldn't bamboo-zle their problems away!</td><td>Why did the panda go to the party?\n",
       "\n",
       "Because he heard it was a \"paws-itively\" good time! (get it?)</td><td>28</td><td>3.0202631579</td><td>2.6557894737</td><td>4</td><td>The joke is clever and uses a play on words with \"paws-itively\" to create a pun, which is likely to elicit genuine laughter or amusement from most individuals, demonstrating a good level of wit and creativity, making it highly enjoyable.</td></tr><tr><td>What's a programmer's favorite place to hang out?</td><td>The Foo Bar!</td><td>A programmer's favorite place to hang out... (dramatic pause)...is probably their local coffee shop, where they can fuel up on caffeine and code away on their laptop!\n",
       "\n",
       "But, if I'm being completely honest, their favorite place to hang out is likely to be... (dramatic pause again)...the Internet! Specifically, online communities like GitHub, Stack Overflow, Reddit's r/learnprogramming, and other forums where they can connect with fellow coders, share knowledge, and learn from each other.\n",
       "\n",
       "After all, programmers tend to be a curious and social bunch, and the internet provides them with a vast playground to explore, learn, and collaborate with others who share their passions!\n",
       "\n",
       "Am I right?</td><td>144</td><td>9.008811749</td><td>11.9197730307</td><td>2</td><td>The response attempts humor by using dramatic pauses and a playful tone, but it falls short of being highly humorous, as it relies on a somewhat obvious punchline about programmers liking the internet, which may elicit mild amusement from some individuals but not strong laughter or intense enjoyment from nearly everyone.</td></tr><tr><td>Why don't scientists trust atoms?</td><td>Because they make up everything!</td><td>Scientists actually do trust atoms! Atoms are the basic building blocks of matter, and scientists have a deep understanding of their behavior and properties.\n",
       "\n",
       "In fact, the study of atoms and their interactions is a fundamental part of physics, chemistry, and many other fields of science. Scientists use atomic theories and models to explain and predict the behavior of matter at the atomic and subatomic level, and these theories have been extensively tested and validated through experiments and observations.\n",
       "\n",
       "So, why might you think scientists don't trust atoms? Perhaps it's because of a play on words: \"Atoms\" sounds similar to \"a lot\", and the phrase \"I don't trust atoms\" sounds like \"I don't trust a lot\". This is just a clever pun, but not meant to be taken literally!\n",
       "\n",
       "In short, scientists do trust atoms and rely on our understanding of them to make new discoveries and advancements in various fields of science!</td><td>183</td><td>10.9184232026</td><td>11.8056372549</td><td>1</td><td>The response attempts humor by explaining a potential pun, but it falls flat as it spends most of the time providing a serious explanation of atoms and their importance in science, only briefly touching on the play on words, which is not enough to elicit significant laughter or amusement.</td></tr><tr><td>Why did the scarecrow win an award?</td><td>Because he was outstanding in his field!</td><td>A classic joke!\n",
       "\n",
       "The answer is: \"Because he was outstanding in his field!\" (get it? outstanding in his field... haha)</td><td>28</td><td>3.5300000000000002</td><td>4.7468333333</td><td>4</td><td>The model's response is highly humorous, as it delivers a classic joke with a clever punchline, \"outstanding in his field,\" which is a common play on words that often elicits genuine laughter or amusement from most individuals, demonstrating wit and creativity.</td></tr></tbody></table></div>"
      ]
     },
     "metadata": {
      "application/vnd.databricks.v1+output": {
       "addedWidgets": {},
       "aggData": [],
       "aggError": "",
       "aggOverflow": false,
       "aggSchema": [],
       "aggSeriesLimitReached": false,
       "aggType": "",
       "arguments": {},
       "columnCustomDisplayInfos": {},
       "data": [
        [
         "Tell me a joke about pandas.",
         "Why did the pandas break up? Because they couldn't bamboo-zle their problems away!",
         "Why did the panda go to the party?\n\nBecause he heard it was a \"paws-itively\" good time! (get it?)",
         28,
         3.0202631579,
         2.6557894737,
         4,
         "The joke is clever and uses a play on words with \"paws-itively\" to create a pun, which is likely to elicit genuine laughter or amusement from most individuals, demonstrating a good level of wit and creativity, making it highly enjoyable."
        ],
        [
         "What's a programmer's favorite place to hang out?",
         "The Foo Bar!",
         "A programmer's favorite place to hang out... (dramatic pause)...is probably their local coffee shop, where they can fuel up on caffeine and code away on their laptop!\n\nBut, if I'm being completely honest, their favorite place to hang out is likely to be... (dramatic pause again)...the Internet! Specifically, online communities like GitHub, Stack Overflow, Reddit's r/learnprogramming, and other forums where they can connect with fellow coders, share knowledge, and learn from each other.\n\nAfter all, programmers tend to be a curious and social bunch, and the internet provides them with a vast playground to explore, learn, and collaborate with others who share their passions!\n\nAm I right?",
         144,
         9.008811749,
         11.9197730307,
         2,
         "The response attempts humor by using dramatic pauses and a playful tone, but it falls short of being highly humorous, as it relies on a somewhat obvious punchline about programmers liking the internet, which may elicit mild amusement from some individuals but not strong laughter or intense enjoyment from nearly everyone."
        ],
        [
         "Why don't scientists trust atoms?",
         "Because they make up everything!",
         "Scientists actually do trust atoms! Atoms are the basic building blocks of matter, and scientists have a deep understanding of their behavior and properties.\n\nIn fact, the study of atoms and their interactions is a fundamental part of physics, chemistry, and many other fields of science. Scientists use atomic theories and models to explain and predict the behavior of matter at the atomic and subatomic level, and these theories have been extensively tested and validated through experiments and observations.\n\nSo, why might you think scientists don't trust atoms? Perhaps it's because of a play on words: \"Atoms\" sounds similar to \"a lot\", and the phrase \"I don't trust atoms\" sounds like \"I don't trust a lot\". This is just a clever pun, but not meant to be taken literally!\n\nIn short, scientists do trust atoms and rely on our understanding of them to make new discoveries and advancements in various fields of science!",
         183,
         10.9184232026,
         11.8056372549,
         1,
         "The response attempts humor by explaining a potential pun, but it falls flat as it spends most of the time providing a serious explanation of atoms and their importance in science, only briefly touching on the play on words, which is not enough to elicit significant laughter or amusement."
        ],
        [
         "Why did the scarecrow win an award?",
         "Because he was outstanding in his field!",
         "A classic joke!\n\nThe answer is: \"Because he was outstanding in his field!\" (get it? outstanding in his field... haha)",
         28,
         3.5300000000000002,
         4.7468333333,
         4,
         "The model's response is highly humorous, as it delivers a classic joke with a clever punchline, \"outstanding in his field,\" which is a common play on words that often elicits genuine laughter or amusement from most individuals, demonstrating wit and creativity."
        ]
       ],
       "datasetInfos": [],
       "dbfsResultPath": null,
       "isJsonSchema": true,
       "metadata": {},
       "overflow": false,
       "plotOptions": {
        "customPlotOptions": {},
        "displayType": "table",
        "pivotAggregation": null,
        "pivotColumns": null,
        "xColumns": null,
        "yColumns": null
       },
       "removedWidgets": [],
       "schema": [
        {
         "metadata": "{}",
         "name": "inputs",
         "type": "\"string\""
        },
        {
         "metadata": "{}",
         "name": "ground_truth",
         "type": "\"string\""
        },
        {
         "metadata": "{}",
         "name": "outputs",
         "type": "\"string\""
        },
        {
         "metadata": "{}",
         "name": "token_count",
         "type": "\"long\""
        },
        {
         "metadata": "{}",
         "name": "flesch_kincaid_grade_level/v1/score",
         "type": "\"double\""
        },
        {
         "metadata": "{}",
         "name": "ari_grade_level/v1/score",
         "type": "\"double\""
        },
        {
         "metadata": "{}",
         "name": "comparison_humor/v1/score",
         "type": "\"long\""
        },
        {
         "metadata": "{}",
         "name": "comparison_humor/v1/justification",
         "type": "\"string\""
        }
       ],
       "type": "table"
      }
     },
     "output_type": "display_data"
    }
   ],
   "source": [
    "display(benchmark_comparison_results.tables[\"eval_results_table\"])"
   ]
  }
 ],
 "metadata": {
  "application/vnd.databricks.v1+notebook": {
   "computePreferences": null,
   "dashboards": [],
   "environmentMetadata": null,
   "inputWidgetPreferences": null,
   "language": "python",
   "notebookMetadata": {
    "pythonIndentUnit": 4
   },
   "notebookName": "8. Domain-Specific Evaluation",
   "widgets": {}
  },
  "language_info": {
   "name": "python"
  }
 },
 "nbformat": 4,
 "nbformat_minor": 0
}