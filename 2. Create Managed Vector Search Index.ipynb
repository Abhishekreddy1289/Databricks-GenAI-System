{
 "cells": [
  {
   "cell_type": "markdown",
   "metadata": {
    "application/vnd.databricks.v1+cell": {
     "cellMetadata": {
      "byteLimit": 2048000,
      "rowLimit": 10000
     },
     "inputWidgets": {},
     "nuid": "9e9499b2-7001-49a4-92ec-291d89f06d49",
     "showTitle": false,
     "tableResultSettingsMap": {},
     "title": ""
    }
   },
   "source": [
    "\n",
    "# Create Managed Vector Search Index\n",
    "\n",
    "The process of creating a **managed** Vector Search index for retrieval-augmented generation (RAG) applications. This involves configuring Databricks Vector Search to ingest data from a Delta table containing text embeddings and metadata."
   ]
  },
  {
   "cell_type": "code",
   "execution_count": 0,
   "metadata": {
    "application/vnd.databricks.v1+cell": {
     "cellMetadata": {
      "byteLimit": 2048000,
      "rowLimit": 10000
     },
     "inputWidgets": {},
     "nuid": "d976e8c8-b5b9-433d-9436-334f0d35e098",
     "showTitle": false,
     "tableResultSettingsMap": {},
     "title": ""
    }
   },
   "outputs": [],
   "source": [
    "%pip install -U -qq databricks-vectorsearch databricks-sdk flashrank PyPDF2\n",
    "dbutils.library.restartPython()"
   ]
  },
  {
   "cell_type": "code",
   "execution_count": 0,
   "metadata": {
    "application/vnd.databricks.v1+cell": {
     "cellMetadata": {
      "byteLimit": 2048000,
      "rowLimit": 10000
     },
     "inputWidgets": {},
     "nuid": "750b6417-1455-40df-8074-a8ed5a657dbb",
     "showTitle": false,
     "tableResultSettingsMap": {},
     "title": ""
    }
   },
   "outputs": [],
   "source": [
    "%run ../Includes/Classroom-Setup-03"
   ]
  },
  {
   "cell_type": "markdown",
   "metadata": {
    "application/vnd.databricks.v1+cell": {
     "cellMetadata": {
      "byteLimit": 2048000,
      "rowLimit": 10000
     },
     "inputWidgets": {},
     "nuid": "7c33d9b7-e23d-4182-a8fa-3c7733e1f4f1",
     "showTitle": false,
     "tableResultSettingsMap": {},
     "title": ""
    }
   },
   "source": [
    "**Other Conventions:**\n",
    "\n",
    "Throughout this demo, we'll refer to the object `DA`. This object, provided by Databricks Academy, contains variables such as your username, catalog name, schema name, working directory, and dataset locations. Run the code block below to view these details:"
   ]
  },
  {
   "cell_type": "code",
   "execution_count": 0,
   "metadata": {
    "application/vnd.databricks.v1+cell": {
     "cellMetadata": {
      "byteLimit": 2048000,
      "rowLimit": 10000
     },
     "inputWidgets": {},
     "nuid": "6d3f49ae-f775-4675-829e-d9d006b95370",
     "showTitle": false,
     "tableResultSettingsMap": {},
     "title": ""
    }
   },
   "outputs": [],
   "source": [
    "print(f\"Username:          {DA.username}\")\n",
    "print(f\"Catalog Name:      {DA.catalog_name}\")\n",
    "print(f\"Schema Name:       {DA.schema_name}\")\n",
    "print(f\"Working Directory: {DA.paths.working_dir}\")\n",
    "print(f\"Dataset Location:  {DA.paths.datasets}\")"
   ]
  },
  {
   "cell_type": "markdown",
   "metadata": {
    "application/vnd.databricks.v1+cell": {
     "cellMetadata": {
      "byteLimit": 2048000,
      "rowLimit": 10000
     },
     "inputWidgets": {},
     "nuid": "0021e987-e56d-4565-b36c-1de8446e6ac6",
     "showTitle": false,
     "tableResultSettingsMap": {},
     "title": ""
    }
   },
   "source": [
    "## Step 1: Create a Vector Search Endpoint\n",
    "\n",
    "To start, you need to create a Vector Search endpoint to serve the index.\n"
   ]
  },
  {
   "cell_type": "markdown",
   "metadata": {
    "application/vnd.databricks.v1+cell": {
     "cellMetadata": {
      "byteLimit": 2048000,
      "rowLimit": 10000
     },
     "inputWidgets": {},
     "nuid": "a6792321-9761-469a-91ca-92d7b2279849",
     "showTitle": false,
     "tableResultSettingsMap": {},
     "title": ""
    }
   },
   "source": [
    "### Step-by-Step Instructions:\n",
    "\n",
    "\n",
    "**Vector Search Endpoint**: The first step for creating a Vector Search index is to create a compute endpoint. This endpoint is already created in this lab environment.\n",
    "\n",
    "**Wait for Endpoint to be Ready**: After defining the endpoint name, check the status of the endpoint using the provided function `wait_for_vs_endpoint_to_be_ready`.\n",
    "\n",
    "Additionally, you can check the endpoint status in the Databricks workspace [Vector Search Endpoints in Compute section](#/setting/clusters/vector-search)."
   ]
  },
  {
   "cell_type": "code",
   "execution_count": 0,
   "metadata": {
    "application/vnd.databricks.v1+cell": {
     "cellMetadata": {
      "byteLimit": 2048000,
      "rowLimit": 10000
     },
     "inputWidgets": {},
     "nuid": "2d29e9d0-8aae-4f65-86e0-b40927bf47dc",
     "showTitle": false,
     "tableResultSettingsMap": {},
     "title": ""
    }
   },
   "outputs": [],
   "source": [
    "## assign vs search endpoint by username\n",
    "vs_endpoint_prefix = \"vs_endpoint_\"\n",
    "vs_endpoint_name = vs_endpoint_prefix + str(get_fixed_integer(DA.unique_name(\"_\")))\n",
    "print(f\"Assigned Vector Search endpoint name: {vs_endpoint_name}.\")"
   ]
  },
  {
   "cell_type": "code",
   "execution_count": 0,
   "metadata": {
    "application/vnd.databricks.v1+cell": {
     "cellMetadata": {
      "byteLimit": 2048000,
      "rowLimit": 10000
     },
     "inputWidgets": {},
     "nuid": "b2f8bedc-3f9c-4e48-965b-2c29577df244",
     "showTitle": false,
     "tableResultSettingsMap": {},
     "title": ""
    }
   },
   "outputs": [],
   "source": [
    "import databricks.sdk.service.catalog as c\n",
    "from databricks.vector_search.client import VectorSearchClient\n",
    "from databricks.sdk import WorkspaceClient\n",
    "\n",
    "vsc = VectorSearchClient(disable_notice=True)\n",
    "\n",
    "## check the status of the endpoint.\n",
    "wait_for_vs_endpoint_to_be_ready(vsc, vs_endpoint_name)\n",
    "print(f\"Endpoint named {vs_endpoint_name} is ready.\")"
   ]
  },
  {
   "cell_type": "markdown",
   "metadata": {
    "application/vnd.databricks.v1+cell": {
     "cellMetadata": {
      "byteLimit": 2048000,
      "rowLimit": 10000
     },
     "inputWidgets": {},
     "nuid": "efa6598e-fe10-4f0c-88bf-2e0937996457",
     "showTitle": false,
     "tableResultSettingsMap": {},
     "title": ""
    }
   },
   "source": [
    "## Step 2: Create a Managed Vector Search Index\n",
    "\n",
    "Now, connect the Delta table containing text and metadata with the Vector Search endpoint. In this , you will create a **managed** index, which means you don't need to create the embeddings manually. For API details, check the [documentation page](https://docs.databricks.com/en/generative-ai/create-query-vector-search.html#create-index-using-the-python-sdk).\n",
    "\n",
    "\n",
    "**📌 Note 1: You will use the embeddings table that you created in the previous lab. If you haven't completed that lab, stop here and complete it first.**\n",
    "\n",
    "**📌 Note 2:** Although the source table already has the embedding column precomputed, we are not going to use it here to test the managed vector search capability to populate embeddings on the fly during data ingestion and query.\n",
    "\n",
    "**💡 Instructions:**\n",
    "\n",
    "1. Define the source Delta table containing the text to be indexed.\n",
    "\n",
    "1. Create a Vector Search index. Use these parameters; source column as `content` and `databricks-gte-large-en` as embedding model. Also, the sync process should be  `manually triggered`.\n",
    "\n",
    "1. Create or synchronize the Vector Search index based on the source Delta table.\n"
   ]
  },
  {
   "cell_type": "code",
   "execution_count": 0,
   "metadata": {
    "application/vnd.databricks.v1+cell": {
     "cellMetadata": {
      "byteLimit": 2048000,
      "implicitDf": true,
      "rowLimit": 10000
     },
     "inputWidgets": {},
     "nuid": "23846dd0-f0b3-484c-8190-2b4c8906ea16",
     "showTitle": false,
     "tableResultSettingsMap": {},
     "title": ""
    }
   },
   "outputs": [],
   "source": [
    "%sql \n",
    "ALTER TABLE dbacademy.labuser10914379_1753166678.pdf_text_embeddings\n",
    "SET TBLPROPERTIES (delta.enableChangeDataFeed = true);\n"
   ]
  },
  {
   "cell_type": "code",
   "execution_count": 0,
   "metadata": {
    "application/vnd.databricks.v1+cell": {
     "cellMetadata": {
      "byteLimit": 2048000,
      "rowLimit": 10000
     },
     "inputWidgets": {},
     "nuid": "a7ba6986-2452-4f70-845a-e4978ed00847",
     "showTitle": false,
     "tableResultSettingsMap": {},
     "title": ""
    }
   },
   "outputs": [],
   "source": [
    "# Define full table names\n",
    "source_table_fullname = f\"{DA.catalog_name}.{DA.schema_name}.pdf_text_embeddings\"\n",
    "vs_index_fullname = f\"{DA.catalog_name}.{DA.schema_name}.pdf_text_managed_vs_index\"\n",
    "\n",
    "# Optional: Ensure the source table has an `id` column\n",
    "# You can skip this part if you've already added it manually\n",
    "from pyspark.sql.functions import monotonically_increasing_id\n",
    "\n",
    "df = spark.table(source_table_fullname)\n",
    "if 'id' not in df.columns:\n",
    "    print(\"Adding 'id' column to the source table...\")\n",
    "    df = df.withColumn(\"id\", monotonically_increasing_id())\n",
    "    df.write.mode(\"overwrite\").option(\"overwriteSchema\", \"true\").saveAsTable(source_table_fullname)\n",
    "else:\n",
    "    print(\"'id' column already present in the table.\")\n",
    "\n",
    "# Create or sync the index\n",
    "if not index_exists(vsc, vs_endpoint_name, vs_index_fullname):\n",
    "    print(f\"Creating index '{vs_index_fullname}' on endpoint '{vs_endpoint_name}'...\")\n",
    "    \n",
    "    vsc.create_delta_sync_index(\n",
    "        endpoint_name=vs_endpoint_name,\n",
    "        index_name=vs_index_fullname,\n",
    "        source_table_name=source_table_fullname,\n",
    "        pipeline_type=\"TRIGGERED\",\n",
    "        primary_key=\"id\",\n",
    "        embedding_source_column=\"content\",  # The column containing raw text\n",
    "        embedding_model_endpoint_name=\"databricks-gte-large-en\"  # Pretrained embedding model\n",
    "    )\n",
    "else:\n",
    "    print(f\"Index '{vs_index_fullname}' already exists. Triggering sync...\")\n",
    "    vsc.get_index(vs_endpoint_name, vs_index_fullname).sync()\n",
    "\n",
    "# Wait for the index to be ready\n",
    "print(\"Waiting for the index to be ready...\")\n",
    "wait_for_index_to_be_ready(vsc, vs_endpoint_name, vs_index_fullname)\n",
    "print(\"Index is ready.\")\n"
   ]
  },
  {
   "cell_type": "markdown",
   "metadata": {
    "application/vnd.databricks.v1+cell": {
     "cellMetadata": {
      "byteLimit": 2048000,
      "rowLimit": 10000
     },
     "inputWidgets": {},
     "nuid": "7537401b-5675-424c-8e88-1e89ca745518",
     "showTitle": false,
     "tableResultSettingsMap": {},
     "title": ""
    }
   },
   "source": [
    "## Step 3: Search Documents Similar to the Query\n",
    "\n",
    "Test the Vector Search index by searching for similar content based on a sample query.\n",
    "\n",
    "**💡 Instructions:**\n",
    "\n",
    "1. Get the index instance that we created.\n",
    "\n",
    "1. Send a sample query to the language model endpoint using **query text**. 🚨 Note: As you created a managed index, you will use plain text for similarity search using `query_text` parameter.\n",
    "\n",
    "1. Use the embeddings to search for similar content in the Vector Search index."
   ]
  },
  {
   "cell_type": "code",
   "execution_count": 0,
   "metadata": {
    "application/vnd.databricks.v1+cell": {
     "cellMetadata": {
      "byteLimit": 2048000,
      "rowLimit": 10000
     },
     "inputWidgets": {},
     "nuid": "c1f9c91e-a044-449e-ab20-6e40b3a6437c",
     "showTitle": false,
     "tableResultSettingsMap": {},
     "title": ""
    }
   },
   "outputs": [],
   "source": [
    "## get VS index\n",
    "index = vsc.get_index(vs_endpoint_name, vs_index_fullname)\n",
    "\n",
    "question = \"What are the security and privacy concerns when training generative models?\"\n",
    "\n",
    "## search for similar documents  \n",
    "results = index.similarity_search(\n",
    "    query_text = question,\n",
    "    columns=[\"pdf_name\", \"content\"],\n",
    "    num_results=4\n",
    "    )\n",
    "\n",
    "## show the results\n",
    "docs = results.get(\"result\", {}).get(\"data_array\", [])\n",
    "\n",
    "print(docs)"
   ]
  },
  {
   "cell_type": "markdown",
   "metadata": {
    "application/vnd.databricks.v1+cell": {
     "cellMetadata": {
      "byteLimit": 2048000,
      "rowLimit": 10000
     },
     "inputWidgets": {},
     "nuid": "1175e2e9-2d53-4d24-86cc-d632cc761507",
     "showTitle": false,
     "tableResultSettingsMap": {},
     "title": ""
    }
   },
   "source": [
    "## Step 4: Re-rank Search Results\n",
    "\n",
    "You have retrieved some documents that are similar to the query text. However, the question of which documents are the most relevant is not done by the vector search results. Use `flashrank` library to re-rank the results and show the most relevant top 3 documents. \n",
    "\n",
    "**💡 Instructions:**\n",
    "\n",
    "1. Define `flashrank` with **`rank-T5-flan`** model.\n",
    "\n",
    "1. Re-rank the search results.\n",
    "\n",
    "1. Show the most relevant **top 3** documents.\n"
   ]
  },
  {
   "cell_type": "code",
   "execution_count": 0,
   "metadata": {
    "application/vnd.databricks.v1+cell": {
     "cellMetadata": {
      "byteLimit": 2048000,
      "rowLimit": 10000
     },
     "inputWidgets": {},
     "nuid": "fe272bda-591c-4a84-b21e-64de15fb344c",
     "showTitle": false,
     "tableResultSettingsMap": {},
     "title": ""
    }
   },
   "outputs": [],
   "source": [
    "from flashrank import Ranker, RerankRequest\n",
    "\n",
    "## define the ranker.\n",
    "cache_dir = f\"{DA.paths.working_dir}/opt\"\n",
    "\n",
    "ranker = Ranker(model_name=\"rank-T5-flan\", cache_dir=cache_dir)\n",
    "\n",
    "## format the result to align with reranker library format. \n",
    "passages = []\n",
    "for doc in docs:\n",
    "    new_doc = {\"file\": doc[0], \"text\": doc[1]}\n",
    "    passages.append(new_doc)\n",
    "\n",
    "## rerank the passages.\n",
    "rerankrequest = RerankRequest(query=question, passages=passages)\n",
    "ranked_passages = ranker.rerank(rerankrequest)\n",
    "\n",
    "## show the top 3 results.\n",
    "print(*ranked_passages[:3], sep=\"\\n\\n\")"
   ]
  }
 ],
 "metadata": {
  "application/vnd.databricks.v1+notebook": {
   "computePreferences": null,
   "dashboards": [],
   "environmentMetadata": null,
   "inputWidgetPreferences": null,
   "language": "python",
   "notebookMetadata": {
    "mostRecentlyExecutedCommandWithImplicitDF": {
     "commandId": 5326794719916375,
     "dataframes": [
      "_sqldf"
     ]
    },
    "pythonIndentUnit": 4
   },
   "notebookName": "2. Create Managed Vector Search Index",
   "widgets": {}
  },
  "language_info": {
   "name": "python"
  }
 },
 "nbformat": 4,
 "nbformat_minor": 0
}
