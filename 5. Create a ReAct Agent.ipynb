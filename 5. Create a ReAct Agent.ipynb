{
 "cells": [
  {
   "cell_type": "markdown",
   "metadata": {
    "application/vnd.databricks.v1+cell": {
     "cellMetadata": {},
     "inputWidgets": {},
     "nuid": "0651a45d-aec5-49b3-bc4d-c6f6658df86f",
     "showTitle": false,
     "tableResultSettingsMap": {},
     "title": ""
    }
   },
   "source": [
    "\n",
    "# Create a ReAct Agent\n",
    "\n",
    "In this, we will create a virtual stock advisor agent that uses the **ReAct** prompting framework. This agent will reason and act based on the prompts and tools provided.\n",
    "\n",
    "Of course, the agent is built for demonstration purposes and the answers shouldn't be used as investment advice!\n",
    "\n"
   ]
  },
  {
   "cell_type": "code",
   "execution_count": 0,
   "metadata": {
    "application/vnd.databricks.v1+cell": {
     "cellMetadata": {
      "byteLimit": 2048000,
      "rowLimit": 10000
     },
     "inputWidgets": {},
     "nuid": "a5f916b2-34e0-47b4-bb1e-f2085e180ef5",
     "showTitle": false,
     "tableResultSettingsMap": {},
     "title": ""
    }
   },
   "outputs": [
    {
     "output_type": "stream",
     "name": "stdout",
     "output_type": "stream",
     "text": [
      "\u001B[31mERROR: pip's dependency resolver does not currently take into account all the packages that are installed. This behaviour is the source of the following dependency conflicts.\npetastorm 0.12.1 requires pyspark>=2.1.0, which is not installed.\njupyter-server 1.23.4 requires anyio<4,>=3.1.0, but you have anyio 4.9.0 which is incompatible.\nnumba 0.57.1 requires numpy<1.25,>=1.21, but you have numpy 1.26.4 which is incompatible.\nydata-profiling 4.5.1 requires numpy<1.24,>=1.16.0, but you have numpy 1.26.4 which is incompatible.\nydata-profiling 4.5.1 requires pydantic<2,>=1.8.1, but you have pydantic 2.11.7 which is incompatible.\u001B[0m\u001B[31m\n\u001B[0m\u001B[43mNote: you may need to restart the kernel using %restart_python or dbutils.library.restartPython() to use updated packages.\u001B[0m\n"
     ]
    }
   ],
   "source": [
    "%pip install -U -qq langchain-databricks langchain==0.3.7 langchain_community==0.3.5 wikipedia==1.4.0 youtube-search duckduckgo-search\n",
    "\n",
    "dbutils.library.restartPython()"
   ]
  },
  {
   "cell_type": "code",
   "execution_count": 0,
   "metadata": {
    "application/vnd.databricks.v1+cell": {
     "cellMetadata": {
      "byteLimit": 2048000,
      "rowLimit": 10000
     },
     "inputWidgets": {},
     "nuid": "b461521a-7346-4853-a1ce-8411d771f45b",
     "showTitle": false,
     "tableResultSettingsMap": {},
     "title": ""
    }
   },
   "outputs": [
    {
     "output_type": "stream",
     "name": "stdout",
     "output_type": "stream",
     "text": [
      "\u001B[43mNote: you may need to restart the kernel using %restart_python or dbutils.library.restartPython() to use updated packages.\u001B[0m\n"
     ]
    },
    {
     "output_type": "stream",
     "name": "stdout",
     "output_type": "stream",
     "text": [
      "30\n30\n"
     ]
    },
    {
     "output_type": "stream",
     "name": "stdout",
     "output_type": "stream",
     "text": [
      "\nThe examples and models presented in this course are intended solely for demonstration and educational purposes.\n Please note that the models and prompt examples may sometimes contain offensive, inaccurate, biased, or harmful content.\n"
     ]
    }
   ],
   "source": [
    "%run ../Includes/Classroom-Setup-03LAB"
   ]
  },
  {
   "cell_type": "code",
   "execution_count": 0,
   "metadata": {
    "application/vnd.databricks.v1+cell": {
     "cellMetadata": {
      "byteLimit": 2048000,
      "rowLimit": 10000
     },
     "inputWidgets": {},
     "nuid": "e51af00c-5170-4da5-892d-05d0802287d8",
     "showTitle": false,
     "tableResultSettingsMap": {},
     "title": ""
    }
   },
   "outputs": [],
   "source": [
    "import mlflow\n",
    "mlflow.langchain.autolog()"
   ]
  },
  {
   "cell_type": "code",
   "execution_count": 0,
   "metadata": {
    "application/vnd.databricks.v1+cell": {
     "cellMetadata": {
      "byteLimit": 2048000,
      "rowLimit": 10000
     },
     "inputWidgets": {},
     "nuid": "43098aee-3539-4866-b082-8a8eaceab3dc",
     "showTitle": false,
     "tableResultSettingsMap": {},
     "title": ""
    }
   },
   "outputs": [
    {
     "output_type": "stream",
     "name": "stdout",
     "output_type": "stream",
     "text": [
      "Username:          labuser10993843_1753249626@vocareum.com\nCatalog Name:      dbacademy\nSchema Name:       labuser10993843_1753249626\nWorking Directory: /Volumes/dbacademy/ops/labuser10993843_1753249626@vocareum_com\nDataset Location:  NestedNamespace (dais='/Volumes/dbacademy_dais/v01', docs='/Volumes/dbacademy_docs/v01')\n"
     ]
    }
   ],
   "source": [
    "print(f\"Username:          {DA.username}\")\n",
    "print(f\"Catalog Name:      {DA.catalog_name}\")\n",
    "print(f\"Schema Name:       {DA.schema_name}\")\n",
    "print(f\"Working Directory: {DA.paths.working_dir}\")\n",
    "print(f\"Dataset Location:  {DA.paths.datasets}\")"
   ]
  },
  {
   "cell_type": "markdown",
   "metadata": {
    "application/vnd.databricks.v1+cell": {
     "cellMetadata": {},
     "inputWidgets": {},
     "nuid": "eef3d566-3b03-4397-80b6-4ce80fb8af93",
     "showTitle": false,
     "tableResultSettingsMap": {},
     "title": ""
    }
   },
   "source": [
    "## Step 1: Define the Brain of the Agent\n",
    "\n",
    "Let's start by defining the agent brain using one of the available LLMs on Databricks.\n",
    "\n",
    "* For this lab, use **databricks-meta-llama-3-3-70b-instruct** \n",
    "\n",
    "* Define the maximum number of tokens"
   ]
  },
  {
   "cell_type": "code",
   "execution_count": 0,
   "metadata": {
    "application/vnd.databricks.v1+cell": {
     "cellMetadata": {
      "byteLimit": 2048000,
      "rowLimit": 10000
     },
     "inputWidgets": {},
     "nuid": "7c2b24ca-bdda-490a-9580-63990aec3b35",
     "showTitle": false,
     "tableResultSettingsMap": {},
     "title": ""
    }
   },
   "outputs": [
    {
     "output_type": "stream",
     "name": "stderr",
     "output_type": "stream",
     "text": [
      "/root/.ipykernel/21002/command-3772737368744671-465907747:5: LangChainDeprecationWarning: Use databricks_langchain.ChatDatabricks\n  llm_llama = ChatDatabricks(endpoint=\"databricks-meta-llama-3-3-70b-instruct\", max_tokens = 2500)\n"
     ]
    }
   ],
   "source": [
    "from langchain.agents import AgentType, initialize_agent\n",
    "from langchain_databricks import ChatDatabricks\n",
    "\n",
    "## define the brain\n",
    "llm_llama = ChatDatabricks(endpoint=\"databricks-meta-llama-3-3-70b-instruct\", max_tokens = 2500)"
   ]
  },
  {
   "cell_type": "code",
   "execution_count": 0,
   "metadata": {
    "application/vnd.databricks.v1+cell": {
     "cellMetadata": {
      "byteLimit": 2048000,
      "rowLimit": 10000
     },
     "inputWidgets": {},
     "nuid": "d2b41829-c3f0-4173-9fe7-44aa4c492d77",
     "showTitle": false,
     "tableResultSettingsMap": {},
     "title": ""
    }
   },
   "outputs": [
    {
     "output_type": "execute_result",
     "data": {
      "text/plain": [
       "AIMessage(content=\"Hello! I'm just a language model, so I don't have feelings or emotions like humans do, but I'm functioning properly and ready to help with any questions or tasks you may have! How about you? How's your day going so far?\", additional_kwargs={}, response_metadata={'prompt_tokens': 16, 'completion_tokens': 52, 'total_tokens': 68}, id='run--71acc9b6-db1b-4f74-9b12-8f81e97d9c6c-0')"
      ]
     },
     "execution_count": 11,
     "metadata": {},
     "output_type": "execute_result"
    },
    {
     "output_type": "display_data",
     "data": {
      "application/databricks.mlflow.trace": "\"tr-e7ed6add1cfa4879bd79a89bce0f2eba\"",
      "text/plain": [
       "Trace(request_id=tr-e7ed6add1cfa4879bd79a89bce0f2eba)"
      ]
     },
     "metadata": {},
     "output_type": "display_data"
    }
   ],
   "source": [
    "## let's test the brain\n",
    "llm_llama.invoke(\"Hi! How are you?\")"
   ]
  },
  {
   "cell_type": "markdown",
   "metadata": {
    "application/vnd.databricks.v1+cell": {
     "cellMetadata": {},
     "inputWidgets": {},
     "nuid": "dab6e091-c10c-4e9a-b863-dae8db6324ab",
     "showTitle": false,
     "tableResultSettingsMap": {},
     "title": ""
    }
   },
   "source": [
    "## Step 2 : Define Tools that the Agent Will Use\n",
    "\n",
    "For an agent, the toolset is a crucial component to complete the defined task. The agent will reason about the next action to take and use an appropriate tool to complete that action.\n",
    "\n",
    "For our stock advisor agent, we will use the following tools:\n",
    "\n",
    "* **Wikipedia tool**: For searching company details. [[LangChain Doc](https://python.langchain.com/docs/integrations/tools/wikipedia/)]\n",
    "\n",
    "* **DuckDuckGo Search tool**: This will be used for searching the latest news and updates about a stock.[[LangChain Doc](https://python.langchain.com/docs/integrations/tools/ddg/)]\n",
    "\n",
    "* **YouTube search tool**: This will be used to search for review videos about the latest financial reports. [[LangChain Doc](https://python.langchain.com/docs/integrations/tools/youtube/)]"
   ]
  },
  {
   "cell_type": "markdown",
   "metadata": {
    "application/vnd.databricks.v1+cell": {
     "cellMetadata": {},
     "inputWidgets": {},
     "nuid": "5637cea3-a3a6-4690-b700-0f1a733f069f",
     "showTitle": false,
     "tableResultSettingsMap": {},
     "title": ""
    }
   },
   "source": [
    "### Wikipedia Tool"
   ]
  },
  {
   "cell_type": "code",
   "execution_count": 0,
   "metadata": {
    "application/vnd.databricks.v1+cell": {
     "cellMetadata": {
      "byteLimit": 2048000,
      "rowLimit": 10000
     },
     "inputWidgets": {},
     "nuid": "79155457-586c-450b-8a68-cfb71878dba5",
     "showTitle": false,
     "tableResultSettingsMap": {},
     "title": ""
    }
   },
   "outputs": [],
   "source": [
    "from langchain.tools import WikipediaQueryRun\n",
    "from langchain_community.utilities import WikipediaAPIWrapper\n",
    "\n",
    "api_wrapper = WikipediaAPIWrapper(top_k_results=3, doc_content_chars_max=1000)\n",
    "tool_wiki = WikipediaQueryRun(api_wrapper=api_wrapper)"
   ]
  },
  {
   "cell_type": "code",
   "execution_count": 0,
   "metadata": {
    "application/vnd.databricks.v1+cell": {
     "cellMetadata": {
      "byteLimit": 2048000,
      "rowLimit": 10000
     },
     "inputWidgets": {},
     "nuid": "e7eeb511-22e9-44ac-96f4-fa0af6ecc2cd",
     "showTitle": false,
     "tableResultSettingsMap": {},
     "title": ""
    }
   },
   "outputs": [
    {
     "output_type": "execute_result",
     "data": {
      "text/plain": [
       "\"Page: Apple Inc.\\nSummary: Apple Inc. is an American multinational corporation and technology company headquartered in Cupertino, California, in Silicon Valley. It is best known for its consumer electronics, software, and services. Founded in 1976 as Apple Computer Company by Steve Jobs, Steve Wozniak and Ronald Wayne, the company was incorporated by Jobs and Wozniak as Apple Computer, Inc. the following year. It was renamed Apple Inc. in 2007 as the company had expanded its focus from computers to consumer electronics. Apple is the largest technology company by revenue, with US$391.04 billion in the 2024 fiscal year.\\nThe company was founded to produce and market Wozniak's Apple I personal computer. Its second computer, the Apple II, became a best seller as one of the first mass-produced microcomputers. Apple introduced the Lisa in 1983 and the Macintosh in 1984, as some of the first computers to use a graphical user interface and a mouse. By 1985, internal company problems led to Jobs \""
      ]
     },
     "execution_count": 13,
     "metadata": {},
     "output_type": "execute_result"
    },
    {
     "output_type": "display_data",
     "data": {
      "application/databricks.mlflow.trace": "\"tr-aa596ab1861840a494efcdb1548978fe\"",
      "text/plain": [
       "Trace(request_id=tr-aa596ab1861840a494efcdb1548978fe)"
      ]
     },
     "metadata": {},
     "output_type": "display_data"
    }
   ],
   "source": [
    "## Test the Wikipedia tool\n",
    "tool_wiki.run(\"Apple company history\")"
   ]
  },
  {
   "cell_type": "markdown",
   "metadata": {
    "application/vnd.databricks.v1+cell": {
     "cellMetadata": {},
     "inputWidgets": {},
     "nuid": "d1194ad0-67b4-4387-807c-c0eb68c77394",
     "showTitle": false,
     "tableResultSettingsMap": {},
     "title": ""
    }
   },
   "source": [
    "### DuckDuckGo Search Tool"
   ]
  },
  {
   "cell_type": "code",
   "execution_count": 0,
   "metadata": {
    "application/vnd.databricks.v1+cell": {
     "cellMetadata": {
      "byteLimit": 2048000,
      "rowLimit": 10000
     },
     "inputWidgets": {},
     "nuid": "426c701e-6f34-4599-b115-0ab8d9c0bc50",
     "showTitle": false,
     "tableResultSettingsMap": {},
     "title": ""
    }
   },
   "outputs": [],
   "source": [
    "## DuckDuckGo Search Tool\n",
    "from langchain_community.tools.ddg_search import DuckDuckGoSearchRun\n",
    "\n",
    "tool_news = DuckDuckGoSearchRun()"
   ]
  },
  {
   "cell_type": "code",
   "execution_count": 0,
   "metadata": {
    "application/vnd.databricks.v1+cell": {
     "cellMetadata": {
      "byteLimit": 2048000,
      "rowLimit": 10000
     },
     "inputWidgets": {},
     "nuid": "77f34d2d-19d2-43a6-940b-dbb0402ed9e8",
     "showTitle": false,
     "tableResultSettingsMap": {},
     "title": ""
    }
   },
   "outputs": [
    {
     "output_type": "stream",
     "name": "stderr",
     "output_type": "stream",
     "text": [
      "/local_disk0/.ephemeral_nfs/envs/pythonEnv-116e2167-2376-4d59-aeb4-d03fa4e816c2/lib/python3.11/site-packages/langchain_community/utilities/duckduckgo_search.py:63: RuntimeWarning: This package (`duckduckgo_search`) has been renamed to `ddgs`! Use `pip install ddgs` instead.\n  with DDGS() as ddgs:\n/local_disk0/.ephemeral_nfs/envs/pythonEnv-116e2167-2376-4d59-aeb4-d03fa4e816c2/lib/python3.11/site-packages/langchain_community/utilities/duckduckgo_search.py:64: UserWarning: backend='api' is deprecated, using backend='auto'\n  ddgs_gen = ddgs.text(\n"
     ]
    },
    {
     "output_type": "execute_result",
     "data": {
      "text/plain": [
       "'5 days ago · Apple Inc. (NASDAQ:AAPL) shares are reacting to a mix of analyst upgrades, competitive talent shifts, … 2 days ago · After Apple’s recent underperformance versus Big Tech companies, some are calling upon the … Jul 16, 2025 · Get the latest news and real-time alerts from Apple Inc. (AAPL) stock at Seeking Alpha. Jun 26, 2025 · Check this page for Apple stock news as well as how the rest of the world reacts to Apple’s next move in … 4 days ago · Get the latest news on Apple stock with updates on market trends, financials, and analysis from Benzinga. …'"
      ]
     },
     "execution_count": 15,
     "metadata": {},
     "output_type": "execute_result"
    },
    {
     "output_type": "display_data",
     "data": {
      "application/databricks.mlflow.trace": "\"tr-f6e2e9002ef84445a41f150b54861b49\"",
      "text/plain": [
       "Trace(request_id=tr-f6e2e9002ef84445a41f150b54861b49)"
      ]
     },
     "metadata": {},
     "output_type": "display_data"
    }
   ],
   "source": [
    "## Test DuckDuckGo tool\n",
    "tool_news.run(\"Latest news about Apple stock\")"
   ]
  },
  {
   "cell_type": "markdown",
   "metadata": {
    "application/vnd.databricks.v1+cell": {
     "cellMetadata": {},
     "inputWidgets": {},
     "nuid": "7988ca9f-4739-448d-ab42-954c27a843b4",
     "showTitle": false,
     "tableResultSettingsMap": {},
     "title": ""
    }
   },
   "source": [
    "### YouTube Search Tool"
   ]
  },
  {
   "cell_type": "code",
   "execution_count": 0,
   "metadata": {
    "application/vnd.databricks.v1+cell": {
     "cellMetadata": {
      "byteLimit": 2048000,
      "rowLimit": 10000
     },
     "inputWidgets": {},
     "nuid": "70b97659-ff83-4e36-bd04-2cb8c3df9b70",
     "showTitle": false,
     "tableResultSettingsMap": {},
     "title": ""
    }
   },
   "outputs": [
    {
     "output_type": "stream",
     "name": "stderr",
     "output_type": "stream",
     "text": [
      "<frozen importlib._bootstrap>:1047: ImportWarning: ImportHookFinder.find_spec() not found; falling back to find_module()\n<frozen importlib._bootstrap>:1047: ImportWarning: ImportHookFinder.find_spec() not found; falling back to find_module()\n"
     ]
    }
   ],
   "source": [
    "from langchain_community.tools import YouTubeSearchTool\n",
    "\n",
    "tool_youtube = YouTubeSearchTool()"
   ]
  },
  {
   "cell_type": "code",
   "execution_count": 0,
   "metadata": {
    "application/vnd.databricks.v1+cell": {
     "cellMetadata": {
      "byteLimit": 2048000,
      "rowLimit": 10000
     },
     "inputWidgets": {},
     "nuid": "6e733d60-6e4b-4233-a985-457977267c53",
     "showTitle": false,
     "tableResultSettingsMap": {},
     "title": ""
    }
   },
   "outputs": [
    {
     "output_type": "stream",
     "name": "stderr",
     "output_type": "stream",
     "text": [
      "<frozen importlib._bootstrap>:1047: ImportWarning: ImportHookFinder.find_spec() not found; falling back to find_module()\n"
     ]
    },
    {
     "output_type": "execute_result",
     "data": {
      "text/plain": [
       "\"['https://www.youtube.com/watch?v=T1X0i_TjTtk&pp=ygUTQXBwbGUgY29tcGFueSBzdG9jaw%3D%3D', 'https://www.youtube.com/watch?v=XgOvWDwg5zU&pp=ygUTQXBwbGUgY29tcGFueSBzdG9jaw%3D%3D']\""
      ]
     },
     "execution_count": 17,
     "metadata": {},
     "output_type": "execute_result"
    },
    {
     "output_type": "display_data",
     "data": {
      "application/databricks.mlflow.trace": "\"tr-3a36d33347f64c0091b23d7da95969df\"",
      "text/plain": [
       "Trace(request_id=tr-3a36d33347f64c0091b23d7da95969df)"
      ]
     },
     "metadata": {},
     "output_type": "display_data"
    }
   ],
   "source": [
    "## Test the YouTube search tool \n",
    "tool_youtube.run(\"Apple company stock\")"
   ]
  },
  {
   "cell_type": "markdown",
   "metadata": {
    "application/vnd.databricks.v1+cell": {
     "cellMetadata": {},
     "inputWidgets": {},
     "nuid": "6f62b301-2add-49a2-a376-89db662ada29",
     "showTitle": false,
     "tableResultSettingsMap": {},
     "title": ""
    }
   },
   "source": [
    "### Define Toolset\n",
    "\n",
    "Next, add all tools together to be used in the next step."
   ]
  },
  {
   "cell_type": "code",
   "execution_count": 0,
   "metadata": {
    "application/vnd.databricks.v1+cell": {
     "cellMetadata": {
      "byteLimit": 2048000,
      "rowLimit": 10000
     },
     "inputWidgets": {},
     "nuid": "bd242d32-e0fc-4ef3-a8ce-87028099fae7",
     "showTitle": false,
     "tableResultSettingsMap": {},
     "title": ""
    }
   },
   "outputs": [],
   "source": [
    "tools = [tool_wiki, tool_youtube, tool_news]"
   ]
  },
  {
   "cell_type": "markdown",
   "metadata": {
    "application/vnd.databricks.v1+cell": {
     "cellMetadata": {},
     "inputWidgets": {},
     "nuid": "f3f99050-e819-4505-9244-3124fd84c49e",
     "showTitle": false,
     "tableResultSettingsMap": {},
     "title": ""
    }
   },
   "source": [
    "## Step 3: Define Agent Logic\n",
    "\n",
    "An agent requires a planning prompt that defines how it should **reason and act**. LangChain provides a few ready-to-use prompt templates through its **[LangChain Hub](https://smith.langchain.com/hub)**, including those that follow the **ReAct (Reason + Act)** style.\n",
    "\n",
    "In this task, you'll pull a pre-defined ReAct-style prompt from LangChain Hub, which is designed to work with tool-using agents.\n",
    "\n",
    "> \uD83D\uDCA1 Using the Hub simplifies your code and ensures you're working with prompt templates that are community-tested and regularly maintained.\n",
    "\n",
    "\uD83D\uDCDA [Learn more: LangChain Agent Executor Documentation](https://python.langchain.com/docs/how_to/agent_executor/#create-the-agent)"
   ]
  },
  {
   "cell_type": "code",
   "execution_count": 0,
   "metadata": {
    "application/vnd.databricks.v1+cell": {
     "cellMetadata": {
      "byteLimit": 2048000,
      "rowLimit": 10000
     },
     "inputWidgets": {},
     "nuid": "c4078260-96ee-47d3-a8f8-4f817494b95b",
     "showTitle": false,
     "tableResultSettingsMap": {},
     "title": ""
    }
   },
   "outputs": [
    {
     "output_type": "stream",
     "name": "stderr",
     "output_type": "stream",
     "text": [
      "<frozen importlib._bootstrap>:1047: ImportWarning: ImportHookFinder.find_spec() not found; falling back to find_module()\n/local_disk0/.ephemeral_nfs/envs/pythonEnv-116e2167-2376-4d59-aeb4-d03fa4e816c2/lib/python3.11/site-packages/langsmith/client.py:241: LangSmithMissingAPIKeyWarning: API key must be provided when using hosted LangSmith API\n  warnings.warn(\n<frozen importlib._bootstrap>:1047: ImportWarning: ImportHookFinder.find_spec() not found; falling back to find_module()\n"
     ]
    },
    {
     "output_type": "execute_result",
     "data": {
      "text/plain": [
       "[SystemMessagePromptTemplate(prompt=PromptTemplate(input_variables=[], input_types={}, partial_variables={}, template='You are a helpful assistant'), additional_kwargs={}),\n",
       " MessagesPlaceholder(variable_name='chat_history', optional=True),\n",
       " HumanMessagePromptTemplate(prompt=PromptTemplate(input_variables=['input'], input_types={}, partial_variables={}, template='{input}'), additional_kwargs={}),\n",
       " MessagesPlaceholder(variable_name='agent_scratchpad')]"
      ]
     },
     "execution_count": 19,
     "metadata": {},
     "output_type": "execute_result"
    }
   ],
   "source": [
    "## Import LangChain Hub\n",
    "from langchain import hub\n",
    "\n",
    "## Pull a ReAct-style prompt for function/tool-calling agents\n",
    "prompt = hub.pull(\"hwchase17/openai-functions-agent\")\n",
    "\n",
    "## Display the prompt structure\n",
    "prompt.messages"
   ]
  },
  {
   "cell_type": "markdown",
   "metadata": {
    "application/vnd.databricks.v1+cell": {
     "cellMetadata": {},
     "inputWidgets": {},
     "nuid": "9981fba7-a95b-4936-87dc-ffc3480e979a",
     "showTitle": false,
     "tableResultSettingsMap": {},
     "title": ""
    }
   },
   "source": [
    "## Step 4: Create the Agent\n",
    "\n",
    "The final step is to create the agent using the LLM, planning prompt and toolset."
   ]
  },
  {
   "cell_type": "code",
   "execution_count": 0,
   "metadata": {
    "application/vnd.databricks.v1+cell": {
     "cellMetadata": {
      "byteLimit": 2048000,
      "rowLimit": 10000
     },
     "inputWidgets": {},
     "nuid": "65940532-49df-4936-8cbc-d664dccd0c0f",
     "showTitle": false,
     "tableResultSettingsMap": {},
     "title": ""
    }
   },
   "outputs": [],
   "source": [
    "from langchain.agents import AgentExecutor, create_tool_calling_agent\n",
    "\n",
    "agent = create_tool_calling_agent(llm_llama, tools, prompt)\n",
    "agent_exec  = AgentExecutor(agent=agent, tools=tools, verbose=True, handle_parsing_errors=True)"
   ]
  },
  {
   "cell_type": "markdown",
   "metadata": {
    "application/vnd.databricks.v1+cell": {
     "cellMetadata": {},
     "inputWidgets": {},
     "nuid": "b94e246e-057a-40fa-b722-4098ba8d1dda",
     "showTitle": false,
     "tableResultSettingsMap": {},
     "title": ""
    }
   },
   "source": [
    "## Step 5: Run the Agent\n",
    "\n",
    "Let's test the agent!\n",
    "\n",
    "Note: YouTube search might not return the best results. For better results, you could use a paid API/Service that supports better search.\n",
    "\n",
    "**Use this prompt:**\n",
    "<blockquote>\n",
    "What do you think about investing in Apple stock? Provide an overview of the latest news about the company. Next, search a video on YouTube which reviews Apple's latest financials.\n",
    "\n",
    "Format the final answer as HTML.\n",
    "</blockquote>\n"
   ]
  },
  {
   "cell_type": "code",
   "execution_count": 0,
   "metadata": {
    "application/vnd.databricks.v1+cell": {
     "cellMetadata": {
      "byteLimit": 2048000,
      "rowLimit": 10000
     },
     "inputWidgets": {},
     "nuid": "f23b1563-e2c0-4544-8150-fc32b0fad1b6",
     "showTitle": false,
     "tableResultSettingsMap": {},
     "title": ""
    }
   },
   "outputs": [
    {
     "output_type": "stream",
     "name": "stdout",
     "output_type": "stream",
     "text": [
      "\n\n\u001B[1m> Entering new AgentExecutor chain...\u001B[0m\n"
     ]
    },
    {
     "output_type": "stream",
     "name": "stderr",
     "output_type": "stream",
     "text": [
      "<frozen importlib._bootstrap>:1047: ImportWarning: ImportHookFinder.find_spec() not found; falling back to find_module()\n<frozen importlib._bootstrap>:1047: ImportWarning: ImportHookFinder.find_spec() not found; falling back to find_module()\n<frozen importlib._bootstrap>:1047: ImportWarning: ImportHookFinder.find_spec() not found; falling back to find_module()\n"
     ]
    },
    {
     "output_type": "stream",
     "name": "stdout",
     "output_type": "stream",
     "text": [
      "\u001B[32;1m\u001B[1;3m<p>Investing in Apple stock can be a viable option for those looking to diversify their portfolio with a well-established technology company. Apple is known for its innovative products and strong brand loyalty, which can contribute to its financial stability and potential for growth. However, it's essential to stay informed about the latest news and trends affecting the company.</p>\n\n<p>To get an overview of the latest news about Apple, let's check what's currently available on DuckDuckGo:</p>\n<function=duckduckgo_search>{\"query\": \"Apple latest news)}</function>\u001B[0m\n\n\u001B[1m> Finished chain.\u001B[0m\n"
     ]
    },
    {
     "output_type": "display_data",
     "data": {
      "text/html": [
       "<p>Investing in Apple stock can be a viable option for those looking to diversify their portfolio with a well-established technology company. Apple is known for its innovative products and strong brand loyalty, which can contribute to its financial stability and potential for growth. However, it's essential to stay informed about the latest news and trends affecting the company.</p>\n",
       "\n",
       "<p>To get an overview of the latest news about Apple, let's check what's currently available on DuckDuckGo:</p>\n",
       "<function=duckduckgo_search>{\"query\": \"Apple latest news)}</function>"
      ]
     },
     "metadata": {},
     "output_type": "display_data"
    },
    {
     "output_type": "display_data",
     "data": {
      "application/databricks.mlflow.trace": "\"tr-deaa4491669d474c90ed81bb1c23a9e1\"",
      "text/plain": [
       "Trace(request_id=tr-deaa4491669d474c90ed81bb1c23a9e1)"
      ]
     },
     "metadata": {},
     "output_type": "display_data"
    }
   ],
   "source": [
    "response = agent_exec.invoke({\"input\": \n",
    "    \"\"\"\n",
    "    What do you think about investing in Apple stock? Provide an overview of the latest news about the company. Next, search a video on YouTube which reviews Apple's latest financials.\n",
    "\n",
    "    Format the final answer as HTML.\n",
    "    \"\"\"})\n",
    "\n",
    "displayHTML(response[\"output\"])"
   ]
  },
  {
   "cell_type": "markdown",
   "metadata": {
    "application/vnd.databricks.v1+cell": {
     "cellMetadata": {},
     "inputWidgets": {},
     "nuid": "90c41ba9-fe57-4d11-8998-a26143c1b0c0",
     "showTitle": false,
     "tableResultSettingsMap": {},
     "title": ""
    }
   },
   "source": [
    "It seems like the agent uses company name only when searching for videos. **Let's play with the prompt to get better results.**\n",
    "\n",
    "In real-world, the agent would be used in a conversational way and we would just chat with the agent to tweak the search query or to adjust the response in a desired format. \n",
    "\n",
    "**Use this prompt:**\n",
    "<blockquote>\n",
    "What do you think about investing in Apple stock? Provide an overview of the latest news about the company. Next, search a video on YouTube which reviews Apple's latest financials.\n",
    "\n",
    "When searching on YouTube use such as \"Apple  stock finance investment earnings valuation\".\n",
    "\n",
    "Write a nice summary of the results.\n",
    "\n",
    "Format the final answer as HTML.\n",
    "</blockquote>"
   ]
  },
  {
   "cell_type": "code",
   "execution_count": 0,
   "metadata": {
    "application/vnd.databricks.v1+cell": {
     "cellMetadata": {
      "byteLimit": 2048000,
      "rowLimit": 10000
     },
     "inputWidgets": {},
     "nuid": "878866d7-7251-4ed2-b719-8ee5e87971ee",
     "showTitle": false,
     "tableResultSettingsMap": {},
     "title": ""
    }
   },
   "outputs": [
    {
     "output_type": "stream",
     "name": "stdout",
     "output_type": "stream",
     "text": [
      "\n\n\u001B[1m> Entering new AgentExecutor chain...\u001B[0m\n\u001B[32;1m\u001B[1;3m\nInvoking: `duckduckgo_search` with `{'query': 'Apple latest news investment stock finance earnings valuation'}`\n\n\n\u001B[0m\u001B[38;5;200m\u001B[1;3mFind answers with millions of other Apple users in our vibrant community. Search discussions or ask a question about your … Oct 10, 2024 · Change your Apple Account password - Apple Support This is how you change your Apple ID password on your iPhone, iPad, iPod touch, or Apple Watch: 1. … Dec 31, 2024 · Here is: How to use account recovery when you can’t reset your Apple Account password - Apple Support But if you’ve lost access to enough of the context, … Mar 3, 2025 · Is this text message a scam Apple Approval Notice We have noticed that your Apple iCloud id was recently used at \"APPLE STORE In CA\" for 143.95, paid by … Jan 4, 2025 · Typically an Apple ID is an email address you have used. If you are currently using a mobile device that is logged into your account, go to Settings and tap your name …\u001B[0m"
     ]
    },
    {
     "output_type": "stream",
     "name": "stderr",
     "output_type": "stream",
     "text": [
      "/local_disk0/.ephemeral_nfs/envs/pythonEnv-116e2167-2376-4d59-aeb4-d03fa4e816c2/lib/python3.11/site-packages/langchain_community/utilities/duckduckgo_search.py:63: RuntimeWarning: This package (`duckduckgo_search`) has been renamed to `ddgs`! Use `pip install ddgs` instead.\n  with DDGS() as ddgs:\n/local_disk0/.ephemeral_nfs/envs/pythonEnv-116e2167-2376-4d59-aeb4-d03fa4e816c2/lib/python3.11/site-packages/langchain_community/utilities/duckduckgo_search.py:64: UserWarning: backend='api' is deprecated, using backend='auto'\n  ddgs_gen = ddgs.text(\n"
     ]
    },
    {
     "output_type": "stream",
     "name": "stdout",
     "output_type": "stream",
     "text": [
      "\u001B[32;1m\u001B[1;3m\nInvoking: `duckduckgo_search` with `{'query': 'Apple latest financials news'}`\n\n\n\u001B[0m\u001B[38;5;200m\u001B[1;3mFind answers with millions of other Apple users in our vibrant community. Search discussions or ask a question about your … Oct 10, 2024 · Change your Apple Account password - Apple Support This is how you change your Apple ID password on your … Dec 31, 2024 · Here is: How to use account recovery when you can’t reset your Apple Account password - Apple Support But if … Mar 3, 2025 · Is this text message a scam Apple Approval Notice We have noticed that your Apple iCloud id was recently used at … Jan 4, 2025 · Typically an Apple ID is an email address you have used. If you are currently using a mobile device that is …\u001B[0m"
     ]
    },
    {
     "output_type": "stream",
     "name": "stderr",
     "output_type": "stream",
     "text": [
      "/local_disk0/.ephemeral_nfs/envs/pythonEnv-116e2167-2376-4d59-aeb4-d03fa4e816c2/lib/python3.11/site-packages/langchain_community/utilities/duckduckgo_search.py:63: RuntimeWarning: This package (`duckduckgo_search`) has been renamed to `ddgs`! Use `pip install ddgs` instead.\n  with DDGS() as ddgs:\n/local_disk0/.ephemeral_nfs/envs/pythonEnv-116e2167-2376-4d59-aeb4-d03fa4e816c2/lib/python3.11/site-packages/langchain_community/utilities/duckduckgo_search.py:64: UserWarning: backend='api' is deprecated, using backend='auto'\n  ddgs_gen = ddgs.text(\n"
     ]
    },
    {
     "output_type": "stream",
     "name": "stdout",
     "output_type": "stream",
     "text": [
      "\u001B[32;1m\u001B[1;3m\nInvoking: `youtube_search` with `{'query': 'Apple stock finance investment earnings valuation'}`\n\n\n\u001B[0m\u001B[33;1m\u001B[1;3m['https://www.youtube.com/watch?v=VbzZ6c5Epbw&pp=ygUxQXBwbGUgc3RvY2sgZmluYW5jZSBpbnZlc3RtZW50IGVhcm5pbmdzIHZhbHVhdGlvbg%3D%3D', 'https://www.youtube.com/watch?v=pdm4IVdf5_Y&pp=ygUxQXBwbGUgc3RvY2sgZmluYW5jZSBpbnZlc3RtZW50IGVhcm5pbmdzIHZhbHVhdGlvbg%3D%3D']\u001B[0m\u001B[32;1m\u001B[1;3m<p>To get an overview of the latest news about Apple, a search was conducted, but the results did not provide any relevant financial information. However, two YouTube videos were found that review Apple's latest financials: https://www.youtube.com/watch?v=VbzZ6c5Epbw and https://www.youtube.com/watch?v=pdm4IVdf5_Y. These videos may provide valuable insights into Apple's current financial situation and valuation.</p>\u001B[0m\n\n\u001B[1m> Finished chain.\u001B[0m\n"
     ]
    },
    {
     "output_type": "display_data",
     "data": {
      "text/html": [
       "<p>To get an overview of the latest news about Apple, a search was conducted, but the results did not provide any relevant financial information. However, two YouTube videos were found that review Apple's latest financials: https://www.youtube.com/watch?v=VbzZ6c5Epbw and https://www.youtube.com/watch?v=pdm4IVdf5_Y. These videos may provide valuable insights into Apple's current financial situation and valuation.</p>"
      ]
     },
     "metadata": {},
     "output_type": "display_data"
    },
    {
     "output_type": "display_data",
     "data": {
      "application/databricks.mlflow.trace": "\"tr-a67f2c0ec7c7464e961b41b1c7226872\"",
      "text/plain": [
       "Trace(request_id=tr-a67f2c0ec7c7464e961b41b1c7226872)"
      ]
     },
     "metadata": {},
     "output_type": "display_data"
    }
   ],
   "source": [
    "response = agent_exec.invoke({\"input\": \n",
    "    \"\"\"\n",
    "    What do you think about investing in Apple stock? Provide an overview of the latest news about the company. Next, search a video on YouTube which reviews Apple's latest financials.\n",
    "    When searching on YouTube use such as \"Apple  stock finance investment earnings valuation\".\n",
    "\n",
    "    Write a nice summary of the results.\n",
    "\n",
    "    Format the final answer as HTML.\n",
    "\n",
    "    \"\"\"})\n",
    "displayHTML(response[\"output\"])"
   ]
  }
 ],
 "metadata": {
  "application/vnd.databricks.v1+notebook": {
   "computePreferences": null,
   "dashboards": [],
   "environmentMetadata": null,
   "inputWidgetPreferences": null,
   "language": "python",
   "notebookMetadata": {
    "pythonIndentUnit": 4
   },
   "notebookName": "5. Create a ReAct Agent",
   "widgets": {}
  },
  "language_info": {
   "name": "python"
  }
 },
 "nbformat": 4,
 "nbformat_minor": 0
}