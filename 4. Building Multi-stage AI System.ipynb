{
 "cells": [
  {
   "cell_type": "markdown",
   "metadata": {
    "application/vnd.databricks.v1+cell": {
     "cellMetadata": {},
     "inputWidgets": {},
     "nuid": "8f85787e-cd5d-456c-97b6-933b65962627",
     "showTitle": false,
     "tableResultSettingsMap": {},
     "title": ""
    }
   },
   "source": [
    "\n",
    "# Building Multi-stage AI System\n",
    "\n",
    "In this, you will construct a multi-stage reasoning system using Databricks' features and LangChain.\n",
    "\n",
    "You will start by building the first chain, which performs a search using a dataset containing product descriptions from Etsy. Following that, you will create the second chain, which creates an image for the proposed product. Finally, you will integrate these chains to form a complete multi-stage AI system."
   ]
  },
  {
   "cell_type": "code",
   "execution_count": 0,
   "metadata": {
    "application/vnd.databricks.v1+cell": {
     "cellMetadata": {
      "byteLimit": 2048000,
      "rowLimit": 10000
     },
     "inputWidgets": {},
     "nuid": "c7bb396e-fcd9-4329-a001-a714c3102aa1",
     "showTitle": false,
     "tableResultSettingsMap": {},
     "title": ""
    }
   },
   "outputs": [],
   "source": [
    "%pip install -U -qq databricks-sdk databricks-vectorsearch langchain-databricks langchain==0.3.7 langchain-community==0.3.7\n",
    "\n",
    "dbutils.library.restartPython()"
   ]
  },
  {
   "cell_type": "code",
   "execution_count": 0,
   "metadata": {
    "application/vnd.databricks.v1+cell": {
     "cellMetadata": {
      "byteLimit": 2048000,
      "rowLimit": 10000
     },
     "inputWidgets": {},
     "nuid": "bdf10bef-ab39-4178-b757-b97f97ac90b2",
     "showTitle": false,
     "tableResultSettingsMap": {},
     "title": ""
    }
   },
   "outputs": [],
   "source": [
    "%run ../Includes/Classroom-Setup-02LAB"
   ]
  },
  {
   "cell_type": "code",
   "execution_count": 0,
   "metadata": {
    "application/vnd.databricks.v1+cell": {
     "cellMetadata": {
      "byteLimit": 2048000,
      "rowLimit": 10000
     },
     "inputWidgets": {},
     "nuid": "60f6e7aa-848a-4515-96f0-3a622cc9705d",
     "showTitle": false,
     "tableResultSettingsMap": {},
     "title": ""
    }
   },
   "outputs": [],
   "source": [
    "print(f\"Username:          {DA.username}\")\n",
    "print(f\"Catalog Name:      {DA.catalog_name}\")\n",
    "print(f\"Schema Name:       {DA.schema_name}\")\n",
    "print(f\"Working Directory: {DA.paths.working_dir}\")\n",
    "print(f\"Dataset Location:  {DA.paths.datasets}\")"
   ]
  },
  {
   "cell_type": "markdown",
   "metadata": {
    "application/vnd.databricks.v1+cell": {
     "cellMetadata": {},
     "inputWidgets": {},
     "nuid": "3e6854a6-9c0a-47b8-b2f7-72ae0c084d31",
     "showTitle": false,
     "tableResultSettingsMap": {},
     "title": ""
    }
   },
   "source": [
    "## Load Dataset\n",
    "\n",
    "Before you start building the AI chain, you need to load and prepare the dataset and save it as a Delta table.  \n",
    "For this demo, we will use the Databricks Documentation Dataset available from the Databricks Marketplace.\n",
    "\n",
    "This dataset contains documentation pages with associated `id`, `url`, and `content`.  \n",
    "We will format the data to create a single unified `document` field combining the URL and content, which will then be used to build a Vector Store.\n",
    "\n",
    "The table will be created for you in the next code block."
   ]
  },
  {
   "cell_type": "code",
   "execution_count": 0,
   "metadata": {
    "application/vnd.databricks.v1+cell": {
     "cellMetadata": {
      "byteLimit": 2048000,
      "rowLimit": 10000
     },
     "inputWidgets": {},
     "nuid": "349a3418-186f-4f2b-b179-c22c8a2362bb",
     "showTitle": false,
     "tableResultSettingsMap": {},
     "title": ""
    }
   },
   "outputs": [],
   "source": [
    "## Load the docs table from Unity Catalog\n",
    "vs_source_table_fullname = f\"{DA.catalog_name}.{DA.schema_name}.docs\"\n",
    "create_docs_table(vs_source_table_fullname)\n",
    "## Display a sample of the data\n",
    "display(spark.sql(f\"SELECT * FROM {vs_source_table_fullname}\"))"
   ]
  },
  {
   "cell_type": "markdown",
   "metadata": {
    "application/vnd.databricks.v1+cell": {
     "cellMetadata": {},
     "inputWidgets": {},
     "nuid": "38f80044-edf4-417b-aa23-7062908b3bbd",
     "showTitle": false,
     "tableResultSettingsMap": {},
     "title": ""
    }
   },
   "source": [
    "%md \n",
    "## Create a Vector Store\n",
    "\n",
    "In this step, you will compute embeddings for the dataset containing information about the products and store them in a Vector Search index using Databricks Vector Search.\n",
    "\n",
    "**🚨IMPORTANT: Vector Search endpoints must be created before running the rest of the demo. These are already created for you in Databricks Lab environment.**\n"
   ]
  },
  {
   "cell_type": "code",
   "execution_count": 0,
   "metadata": {
    "application/vnd.databricks.v1+cell": {
     "cellMetadata": {
      "byteLimit": 2048000,
      "rowLimit": 10000
     },
     "inputWidgets": {},
     "nuid": "f174f1ab-1832-4dd6-9a96-6af223fdde2a",
     "showTitle": false,
     "tableResultSettingsMap": {},
     "title": ""
    }
   },
   "outputs": [],
   "source": [
    "## Assign Vector Search endpoint by username\n",
    "vs_endpoint_prefix = \"vs_endpoint_\"\n",
    "vs_endpoint_name = vs_endpoint_prefix + str(get_fixed_integer(DA.unique_name(\"_\")))\n",
    "print(f\"Assigned Vector Search endpoint name: {vs_endpoint_name}.\")"
   ]
  },
  {
   "cell_type": "code",
   "execution_count": 0,
   "metadata": {
    "application/vnd.databricks.v1+cell": {
     "cellMetadata": {
      "byteLimit": 2048000,
      "rowLimit": 10000
     },
     "inputWidgets": {},
     "nuid": "74018ca5-6be0-40b0-840b-895743a92b68",
     "showTitle": false,
     "tableResultSettingsMap": {},
     "title": ""
    }
   },
   "outputs": [],
   "source": [
    "## Index table name\n",
    "vs_index_table_fullname = f\"{DA.catalog_name}.{DA.schema_name}.doc_embeddings\"\n",
    "\n",
    "## Store embeddings in vector store\n",
    "## NOTE: we're using 'content' as the embedding column\n",
    "create_vs_index(vs_endpoint_name, vs_index_table_fullname, vs_source_table_fullname, \"document\" )"
   ]
  },
  {
   "cell_type": "markdown",
   "metadata": {
    "application/vnd.databricks.v1+cell": {
     "cellMetadata": {},
     "inputWidgets": {},
     "nuid": "2a320ab9-8ff4-4a8d-bddc-f71fa124307e",
     "showTitle": false,
     "tableResultSettingsMap": {},
     "title": ""
    }
   },
   "source": [
    "## Step 1: Build the First Chain (Vector Store Search)\n",
    "\n",
    "In this task, you will create first chain that will search for product details from the Vector Store using a dataset containing product descriptions.\n",
    "\n",
    "**Instructions:**\n",
    "   - Configure components for the first chain to perform a search using the Vector Store.\n",
    "   - Utilize the loaded dataset to generate prompts for Vector Store search queries.\n",
    "   - Set up retrieval to extract relevant product details based on the generated prompts and search results.\n"
   ]
  },
  {
   "cell_type": "code",
   "execution_count": 0,
   "metadata": {
    "application/vnd.databricks.v1+cell": {
     "cellMetadata": {
      "byteLimit": 2048000,
      "rowLimit": 10000
     },
     "inputWidgets": {},
     "nuid": "406abe38-c3ac-49c9-a0e1-bf614e15a215",
     "showTitle": false,
     "tableResultSettingsMap": {},
     "title": ""
    }
   },
   "outputs": [],
   "source": [
    "from langchain.chains import create_retrieval_chain\n",
    "from langchain.chains.combine_documents import create_stuff_documents_chain\n",
    "from langchain.prompts import PromptTemplate\n",
    "from langchain_databricks import ChatDatabricks, DatabricksVectorSearch\n",
    "from langchain_core.output_parsers import StrOutputParser\n",
    "\n",
    "## Define the Databricks Chat model: llama-3\n",
    "llm_llama = ChatDatabricks(endpoint=\"databricks-meta-llama-3-3-70b-instruct\", max_tokens=1000)\n",
    "\n",
    "## Define the prompt template for generating search queries\n",
    "prompt_template_vs = PromptTemplate.from_template(\n",
    "    \"\"\"\n",
    "    You are a documentation assistant. Based on the following context from a technical document, generate a concise summary or relevant content snippet for answering the user’s question.\n",
    "\n",
    "    Write a response that is aligned with the tone and format of technical documentation and helps the user understand or resolve their query.\n",
    "\n",
    "    Maximum 300 words.\n",
    "\n",
    "    Use the following document snippet and context as example;\n",
    "\n",
    "    <context>\n",
    "    {context}\n",
    "    </context>\n",
    "\n",
    "    Question: {input}\n",
    "    \"\"\"\n",
    ")\n",
    "\n",
    "## Construct the RetrievalQA chain for Vector Store search\n",
    "def get_retriever(persist_dir=None):\n",
    "    vsc = VectorSearchClient(disable_notice=True)\n",
    "    vs_index = vsc.get_index(vs_endpoint_name, vs_index_table_fullname)\n",
    "    vectorstore = DatabricksVectorSearch(vs_index_table_fullname)\n",
    "    return vectorstore.as_retriever(search_kwargs={\"k\": 3})\n",
    "\n",
    "## Construct the chain for question-answering\n",
    "question_answer_chain = create_stuff_documents_chain(llm_llama, prompt_template_vs)\n",
    "chain1 = create_retrieval_chain(get_retriever(), question_answer_chain)\n",
    "\n",
    "## Invoke the chain with an example query   \n",
    "response = chain1.invoke({\"input\": \"How do I create a Delta table?\"})\n",
    "print(response['answer'])"
   ]
  },
  {
   "cell_type": "markdown",
   "metadata": {
    "application/vnd.databricks.v1+cell": {
     "cellMetadata": {},
     "inputWidgets": {},
     "nuid": "0c76cee4-f159-4da9-a0b7-d433933073d0",
     "showTitle": false,
     "tableResultSettingsMap": {},
     "title": ""
    }
   },
   "source": [
    "## Step 2: Build the Second Chain (Optimization)\n",
    "\n",
    "In this step, you will create a second chain to enhance the product details generated by the first chain. This optimization process aims to make the descriptions more compelling and SEO-friendly. In a real-world scenario, this model could be trained on your internal data or fine-tuned to align with your specific business objectives.\n",
    "\n",
    "**Instructions:**\n",
    "\n",
    "- Define a second chain using `llama-3-70b-instruct`.  \n",
    "\n",
    "- Create a prompt to optimize the generated product description. For example:  \n",
    "  *\"You are a marketing expert. Revise the product title and description to be SEO-friendly and more appealing to Databricks users.\"*\n",
    "\n",
    "- Use `product_details` as the parameter to be passed into the prompt.  \n",
    "\n",
    "- Implement the chain and test it with a sample input.  \n"
   ]
  },
  {
   "cell_type": "code",
   "execution_count": 0,
   "metadata": {
    "application/vnd.databricks.v1+cell": {
     "cellMetadata": {
      "byteLimit": 2048000,
      "rowLimit": 10000
     },
     "inputWidgets": {},
     "nuid": "0c05de5e-105e-47c8-bdc0-0b5e0a154bf5",
     "showTitle": false,
     "tableResultSettingsMap": {},
     "title": ""
    }
   },
   "outputs": [],
   "source": [
    "## Define the Databricks Chat model using llama-3-3-70b-instruct\n",
    "llm_llama3 = ChatDatabricks(endpoint=\"databricks-meta-llama-3-3-70b-instruct\", max_tokens=1000)\n",
    "\n",
    "## Define the prompt template for refining documentation output\n",
    "doc_optimization_prompt = PromptTemplate.from_template(\n",
    "    \"\"\"\n",
    "    You are a technical writer. Improve the following documentation snippet to make it clearer, concise, and aligned with the tone used in Databricks documentation.\n",
    "\n",
    "    Documentation snippet: {doc_snippet}\n",
    "\n",
    "    Return only the revised documentation content.\n",
    "    \"\"\"\n",
    ")\n",
    "\n",
    "## Define chain 2\n",
    "chain2 = doc_optimization_prompt | llm_llama3 | StrOutputParser()\n",
    "\n",
    "## Test the chain\n",
    "chain2.invoke({\"doc_snippet\": \"Query testing product with mobile app control\"})"
   ]
  },
  {
   "cell_type": "markdown",
   "metadata": {
    "application/vnd.databricks.v1+cell": {
     "cellMetadata": {},
     "inputWidgets": {},
     "nuid": "055f8d0a-e3e3-473c-830f-ce00c5fd1619",
     "showTitle": false,
     "tableResultSettingsMap": {},
     "title": ""
    }
   },
   "source": [
    "## Step 3: Integrate Chains into a Multi-chain System\n",
    "\n",
    "In this task, you will link the individual chains created in Task 2 and Task 3 together to form a multi-chain system that can handle multi-stage reasoning.\n",
    "\n",
    "**Instructions:**\n",
    "\n",
    "- Use Databricks **`Llama Chat model`** for processing text inputs, which is defined above in the first task.\n",
    "\n",
    "- Create a prompt template to generate an **`HTML page`** for displaying generated product details.\n",
    "\n",
    "- Construct the **`Multi-Chain System`**  by combining the outputs of the previous chains. **Important**: You will need to rename the out of the first chain and second chain while passing them to the next stage. This sequential chain should be as; **chain3 = chain1 > (`product_details`) > chain2 > `(optimized_product_details)` > prompt3**.  \n",
    "\n",
    "- Invoke the multi-chain system with the input data to generate the HTML page for the specified product.\n"
   ]
  },
  {
   "cell_type": "code",
   "execution_count": 0,
   "metadata": {
    "application/vnd.databricks.v1+cell": {
     "cellMetadata": {
      "byteLimit": 2048000,
      "rowLimit": 10000
     },
     "inputWidgets": {},
     "nuid": "49930bb1-30b8-4817-96fa-2c5df5351cd3",
     "showTitle": false,
     "tableResultSettingsMap": {},
     "title": ""
    }
   },
   "outputs": [],
   "source": [
    "from langchain.schema.runnable import RunnablePassthrough, RunnableMap\n",
    "from langchain_core.output_parsers import StrOutputParser\n",
    "from IPython.display import display, HTML\n",
    "\n",
    "## Define the prompt template for generating the HTML page\n",
    "prompt_template_3 = PromptTemplate.from_template(\n",
    "    \"\"\"Create an HTML section for the following technical documentation snippet:\n",
    "    \n",
    "    Content: {optimized_doc}\n",
    "\n",
    "    Return valid HTML (no head/body tags).\n",
    "    \"\"\"\n",
    ")\n",
    "\n",
    "## Construct multi-stage chain\n",
    "chain3 = (\n",
    "    chain1\n",
    "    | RunnableMap({\"doc_snippet\": lambda x: x[\"answer\"]})\n",
    "    | chain2\n",
    "    | RunnableMap({\"optimized_doc\": lambda x: x})\n",
    "    | prompt_template_3\n",
    "    | llm_llama\n",
    "    | StrOutputParser()\n",
    ")\n",
    "\n",
    "## Sample query\n",
    "query = {\n",
    "    \"input\": \"How do I create a Delta table in Databricks?\"\n",
    "}\n",
    "\n",
    "output_html = chain3.invoke(query)\n",
    "\n",
    "## Display the generated HTML output\n",
    "display(HTML(output_html))"
   ]
  },
  {
   "cell_type": "markdown",
   "metadata": {
    "application/vnd.databricks.v1+cell": {
     "cellMetadata": {},
     "inputWidgets": {},
     "nuid": "5c1e7ece-c064-4651-968f-1a53049b12ad",
     "showTitle": false,
     "tableResultSettingsMap": {},
     "title": ""
    }
   },
   "source": [
    "## Step 4: Save the Chain to Model Registry in UC\n",
    "\n",
    "In this task, you will save the multi-stage chain system within our Unity Catalog.\n",
    "\n",
    "**Instructions:**\n",
    "\n",
    "- Set the model registry to UC and use the model name defined.\n",
    "\n",
    "- Log and register the final multi-chain system.\n",
    "\n",
    "- To test the registered model, load the model back from model registry and query it using a sample query. \n",
    "\n",
    "After registering the chain, you can view the chain and models in the **Catalog Explorer**."
   ]
  },
  {
   "cell_type": "code",
   "execution_count": 0,
   "metadata": {
    "application/vnd.databricks.v1+cell": {
     "cellMetadata": {
      "byteLimit": 2048000,
      "rowLimit": 10000
     },
     "inputWidgets": {},
     "nuid": "a0e25320-48b4-46d3-815a-8fa467a2dbdd",
     "showTitle": false,
     "tableResultSettingsMap": {},
     "title": ""
    }
   },
   "outputs": [],
   "source": [
    "from mlflow.models import infer_signature\n",
    "import mlflow\n",
    "\n",
    "## Set model registry to UC\n",
    "mlflow.set_registry_uri(\"databricks-uc\")\n",
    "model_name = f\"{DA.catalog_name}.{DA.schema_name}.multi_stage_doc_chain\"\n",
    "\n",
    "## Log the model\n",
    "with mlflow.start_run(run_name=\"multi_stage_doc_chain\") as run:\n",
    "    signature = infer_signature(query, output_html)\n",
    "    model_info = mlflow.langchain.log_model(\n",
    "        chain3,\n",
    "        loader_fn=get_retriever, \n",
    "        artifact_path=\"chain\",\n",
    "        registered_model_name=model_name,\n",
    "        input_example=query,\n",
    "        signature=signature\n",
    "    )\n",
    "\n",
    "## Load and test the model\n",
    "model_uri = f\"models:/{model_name}/{model_info.registered_model_version}\"\n",
    "model = mlflow.langchain.load_model(model_uri)\n",
    "\n",
    "output_html = model.invoke(query)\n",
    "display(HTML(output_html))"
   ]
  }
 ],
 "metadata": {
  "application/vnd.databricks.v1+notebook": {
   "computePreferences": null,
   "dashboards": [],
   "environmentMetadata": null,
   "inputWidgetPreferences": null,
   "language": "python",
   "notebookMetadata": {
    "pythonIndentUnit": 4
   },
   "notebookName": "4. Building Multi-stage AI System",
   "widgets": {}
  },
  "language_info": {
   "name": "python"
  }
 },
 "nbformat": 4,
 "nbformat_minor": 0
}
